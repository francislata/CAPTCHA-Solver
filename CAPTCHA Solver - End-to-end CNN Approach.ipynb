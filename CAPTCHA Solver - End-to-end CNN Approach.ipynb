{
 "cells": [
  {
   "cell_type": "markdown",
   "metadata": {},
   "source": [
    "# CAPTCHA Solver - End-to-end CNN Approach"
   ]
  },
  {
   "cell_type": "markdown",
   "metadata": {},
   "source": [
    "## Introduction"
   ]
  },
  {
   "cell_type": "markdown",
   "metadata": {},
   "source": [
    "I want to create an end-to-end model that predicts the three letters given a CAPTCHA image that looks like this:\n",
    "\n",
    "![](dataset/train/abc_0f8b2c3a-4441-447c-922c-9696e63eaf28.png)\n",
    "\n",
    "Typical solutions I have found include a pre-processing step where each character is segmented as its own image. Then, it is used as an input to a CNN model to determine the most probable character the image represents. This approach will not work very well for images where characters are distorted in some fashion."
   ]
  },
  {
   "cell_type": "markdown",
   "metadata": {},
   "source": [
    "## Model architecture"
   ]
  },
  {
   "cell_type": "markdown",
   "metadata": {},
   "source": [
    "After doing some research into this problem, Geetika Garg created a [presentation](http://www.cs.sjsu.edu/faculty/pollett/masters/Semesters/Spring15/geetika/CS298%20Slides%20-%20PDF) about a CAPTCHA cracker. In particular, in slide 33, the fixed length model using CNN proved to be effective in solving this architecture problem that I have."
   ]
  },
  {
   "cell_type": "markdown",
   "metadata": {},
   "source": [
    "![](documentation/img/garg_cnn_architecture.png)\n",
    "**Figure 1:** Garg's fixed model CNN architecture"
   ]
  },
  {
   "cell_type": "markdown",
   "metadata": {},
   "source": [
    "In **Figure 1**, Garg's model architecture contains _n_ dense layers and softmax layers. Each combination focuses on a different letter in the image. This is similar to the idea of segmenting image per character before running it through a CNN model. In this case, it is built into the model architecture itself.\n",
    "\n",
    "Note that after taking a look at the [open source code](https://github.com/bgeetika/Captcha-Decoder/) of Garg, I found that only dense layers are created *n* times and the output of each layers are stacked as one input into the softmax layer."
   ]
  },
  {
   "cell_type": "markdown",
   "metadata": {},
   "source": [
    "## Implementation"
   ]
  },
  {
   "cell_type": "markdown",
   "metadata": {},
   "source": [
    "### Imports and constants"
   ]
  },
  {
   "cell_type": "markdown",
   "metadata": {},
   "source": [
    "Here are the imports and constants that will be used throughout the implementation section of this notebook."
   ]
  },
  {
   "cell_type": "code",
   "execution_count": 42,
   "metadata": {},
   "outputs": [],
   "source": [
    "# torch\n",
    "import torch\n",
    "import torch.nn as nn\n",
    "import torch.optim as optim\n",
    "import torchvision.transforms as transforms\n",
    "from torch.utils.data import Dataset, DataLoader\n",
    "\n",
    "# sci-kit learn\n",
    "from sklearn.model_selection import train_test_split\n",
    "\n",
    "# pandas\n",
    "import pandas as pd\n",
    "\n",
    "# tqdm\n",
    "from tqdm import tqdm_notebook\n",
    "\n",
    "# PIL\n",
    "from PIL import Image\n",
    "\n",
    "# Matplotlib\n",
    "import matplotlib.pyplot as plt\n",
    "\n",
    "# NumPy\n",
    "import numpy as np"
   ]
  },
  {
   "cell_type": "code",
   "execution_count": 2,
   "metadata": {},
   "outputs": [],
   "source": [
    "# Filepaths\n",
    "TRAIN_FILEPATH = \"dataset/train/{}\"\n",
    "TEST_FILEPATH = \"dataset/test/{}\"\n",
    "\n",
    "# Model checkpointing\n",
    "CAPTCHACNNCLASSIFIER_MODEL_CHECKPOINT_FILEPATH = \"models/checkpoints/CAPTCHACNNClassifier_epoch{}.pt\"\n",
    "\n",
    "# Accuracies and losses filepath for plotting\n",
    "CAPTCHACNNCLASSIFIER_TRAIN_ACCURACIES_FILEPATH = \"documentation/CAPTCHACNNClassifier_epoch{}_train_acc.png\"\n",
    "CAPTCHACNNCLASSIFIER_TRAIN_LOSSES_FILEPATH = \"documentation/CAPTCHACNNClassifier_epoch{}_train_loss.png\"\n",
    "CAPTCHACNNCLASSIFIER_VALID_ACCURACIES_FILEPATH = \"documentation/CAPTCHACNNClassifier_epoch{}_valid_acc.png\"\n",
    "CAPTCHACNNCLASSIFIER_VALID_LOSSES_FILEPATH = \"documentation/CAPTCHACNNClassifier_epoch{}_valid_loss.png\"\n",
    "\n",
    "# Dynamically determining the device to use for tensors and models\n",
    "DEVICE = torch.device(\"cuda\" if torch.cuda.is_available() else \"cpu\")\n",
    "\n",
    "# Image size to resize input images to\n",
    "IMG_SIZE = (100, 100)\n",
    "\n",
    "# Model checkpointing\n",
    "MODEL_KEY = \"model\"\n",
    "OPTIMIZER_KEY = \"optimizer\"\n",
    "TRAINING_LOSSES_KEY = \"training_losses\"\n",
    "VALIDATION_LOSSES_KEY = \"validation_losses\"\n",
    "TRAINING_ACCURACIES_KEY = \"training_accuracies\"\n",
    "VALIDATION_ACCURACIES_KEY = \"validation_accuracies\"\n",
    "\n",
    "# Model training and evaluation\n",
    "NUM_CHARS = 3\n",
    "LR = 1e-1\n",
    "MOMENTUM = 0.85\n",
    "TRAINING_BATCH_SIZE = 1024\n",
    "EPOCHS = 100"
   ]
  },
  {
   "cell_type": "markdown",
   "metadata": {},
   "source": [
    "### Dataset"
   ]
  },
  {
   "cell_type": "markdown",
   "metadata": {},
   "source": [
    "Let's define a `Vocabulary` class which will determine the conversion of each character to its equivalent index and vice-versa. Also, a helper method has been written to convert prediction indices to its character equivalent."
   ]
  },
  {
   "cell_type": "code",
   "execution_count": 3,
   "metadata": {},
   "outputs": [],
   "source": [
    "class Vocabulary:\n",
    "    def __init__(self):\n",
    "        self.labels_to_idx = {chr(char): idx for idx, char in enumerate(range(ord(\"a\"), ord(\"z\") + 1))}\n",
    "        self.idx_to_labels = {self.labels_to_idx[char]: char for char in self.labels_to_idx}\n",
    "\n",
    "    def convert_indices_to_sequences(self, indices):\n",
    "        return \"\".join([self.idx_to_labels[idx.data.item()] for idx in indices])"
   ]
  },
  {
   "cell_type": "markdown",
   "metadata": {},
   "source": [
    "Next, let's define three datasets: `TrainingDataset`, `ValidationDataset`, and `TestDataset`. Note that `ValidationDataset` will be created by taking 10% from the training dataset."
   ]
  },
  {
   "cell_type": "code",
   "execution_count": 4,
   "metadata": {},
   "outputs": [],
   "source": [
    "class TrainingDataset(Dataset):\n",
    "    def __init__(self, inputs, labels, vocabulary, filepath):\n",
    "        self.inputs = inputs\n",
    "        self.labels = labels\n",
    "        self.vocabulary = vocabulary\n",
    "\n",
    "        self.filepath = filepath\n",
    "\n",
    "        self.transforms = transforms.Compose([\n",
    "            transforms.Resize(IMG_SIZE),\n",
    "            transforms.Grayscale(),\n",
    "            transforms.ToTensor()\n",
    "        ])\n",
    "\n",
    "    def __len__(self): \n",
    "        return len(self.inputs)\n",
    "\n",
    "    def __getitem__(self, idx):\n",
    "        return self.convert_sample_to_tensor(idx)\n",
    "\n",
    "    def convert_sample_to_tensor(self, idx):\n",
    "        input = self.inputs[idx]\n",
    "        input = Image.open(self.filepath.format(input))\n",
    "        input = self.transforms(input)\n",
    "\n",
    "        label = self.labels[idx]\n",
    "        label = [self.vocabulary.labels_to_idx[char] for char in label]\n",
    "        label = torch.LongTensor(label)\n",
    "\n",
    "        return input, label\n",
    "\n",
    "class ValidationDataset(TrainingDataset):\n",
    "    def __init__(self, inputs, labels, vocabulary, filepath):\n",
    "        super(ValidationDataset, self).__init__(inputs, labels, vocabulary, filepath)\n",
    "\n",
    "class TestDataset(TrainingDataset):\n",
    "    def __init__(self, inputs, labels, vocabulary, filepath):\n",
    "        super(TestDataset, self).__init__(inputs, labels, vocabulary, filepath)"
   ]
  },
  {
   "cell_type": "markdown",
   "metadata": {},
   "source": [
    "Note that transformations such as `Grayscale` and `Resize` have been applied before the image is turned into tensors with values between 0 and 1. In particular, grayscaling the image helps the model to focus on the stroke of what a specific character looks like. By having an RGB channel does not change anything about the model's performance. It only adds more parameters to our model in comparison of using a grayscale channel image."
   ]
  },
  {
   "cell_type": "markdown",
   "metadata": {},
   "source": [
    "After defining the datasets that will be used, let's create a helper function to open and create these subclass for usage when training and evaluating our model."
   ]
  },
  {
   "cell_type": "code",
   "execution_count": 5,
   "metadata": {},
   "outputs": [],
   "source": [
    "def open_create_datasets(vocab):\n",
    "    training_ds_df = pd.read_csv(TRAIN_FILEPATH.format(\"train.csv\"))\n",
    "    test_ds_df = pd.read_csv(TEST_FILEPATH.format(\"test.csv\"))\n",
    "\n",
    "    # Split training set to training and validation sets\n",
    "    training_inputs, validation_inputs, training_labels, validation_labels = train_test_split(training_ds_df.inputs.values.tolist(), training_ds_df.labels.values.tolist(), test_size=0.1, random_state=42)\n",
    "\n",
    "    training_ds = TrainingDataset(training_inputs, training_labels, vocab, TRAIN_FILEPATH)\n",
    "    validation_ds = ValidationDataset(validation_inputs, validation_labels, vocab, TRAIN_FILEPATH)\n",
    "    test_ds = TestDataset(test_ds_df.inputs.values.tolist(), test_ds_df.labels.values.tolist(), vocab, TEST_FILEPATH)\n",
    "\n",
    "    return training_ds, validation_ds, test_ds"
   ]
  },
  {
   "cell_type": "markdown",
   "metadata": {},
   "source": [
    "Next, let's create the datasets:"
   ]
  },
  {
   "cell_type": "code",
   "execution_count": 6,
   "metadata": {},
   "outputs": [],
   "source": [
    "vocab = Vocabulary()\n",
    "training_ds, validation_ds, test_ds = open_create_datasets(vocab)"
   ]
  },
  {
   "cell_type": "markdown",
   "metadata": {},
   "source": [
    "Here are the number of samples in each dataset:"
   ]
  },
  {
   "cell_type": "code",
   "execution_count": 7,
   "metadata": {},
   "outputs": [
    {
     "name": "stdout",
     "output_type": "stream",
     "text": [
      "The training dataset has 42120 samples.\n",
      "The validation dataset has 4680 samples.\n",
      "The test dataset has 15600 samples.\n",
      "\n"
     ]
    }
   ],
   "source": [
    "print(\"The training dataset has {} samples.\".format(len(training_ds)))\n",
    "print(\"The validation dataset has {} samples.\".format(len(validation_ds)))\n",
    "print(\"The test dataset has {} samples.\\n\".format(len(test_ds)))"
   ]
  },
  {
   "cell_type": "markdown",
   "metadata": {},
   "source": [
    "### Model architecture"
   ]
  },
  {
   "cell_type": "markdown",
   "metadata": {},
   "source": [
    "First, I create an `Encoder` class which contains convolution and pooling layers."
   ]
  },
  {
   "cell_type": "code",
   "execution_count": 8,
   "metadata": {},
   "outputs": [],
   "source": [
    "class Encoder(nn.Module):\n",
    "    def __init__(self):\n",
    "        super(Encoder, self).__init__()\n",
    "        self.encoder = self.create_encoder()\n",
    "\n",
    "    def forward(self, x):\n",
    "        x = self.encoder(x)\n",
    "        return x\n",
    "\n",
    "    def create_encoder(self):\n",
    "        return nn.Sequential(\n",
    "            nn.Conv2d(1, 32, 3),\n",
    "            nn.ReLU(),\n",
    "            nn.MaxPool2d(2),\n",
    "            \n",
    "            nn.Conv2d(32, 64, 3),\n",
    "            nn.ReLU(),\n",
    "            nn.MaxPool2d(2),\n",
    "\n",
    "            nn.Conv2d(64, 128, 3),\n",
    "            nn.ReLU(),\n",
    "            nn.MaxPool2d(2)\n",
    "        )"
   ]
  },
  {
   "cell_type": "markdown",
   "metadata": {},
   "source": [
    "Next, the dense and softmax layers are added and an instance of the `Encoder` class is initialized to create the end-to-end CNN architecture."
   ]
  },
  {
   "cell_type": "code",
   "execution_count": 9,
   "metadata": {},
   "outputs": [],
   "source": [
    "class CAPTCHACNNClassifier(nn.Module):\n",
    "    def __init__(self, num_letters, num_classes, device):\n",
    "        super(CAPTCHACNNClassifier, self).__init__()\n",
    "\n",
    "        self.num_letters = num_letters\n",
    "        self.encoder = Encoder()\n",
    "        self.linear = nn.Sequential(*[\n",
    "            nn.Dropout(),\n",
    "            nn.Linear(128 * 10 * 10, 512),\n",
    "            nn.ReLU()\n",
    "        ])\n",
    "        self.linear_1 = nn.Sequential(*[\n",
    "            nn.Dropout(),\n",
    "            nn.Linear(512, 256),\n",
    "            nn.ReLU()\n",
    "        ])\n",
    "        self.linear_2 = nn.Sequential(*[\n",
    "            nn.Dropout(),\n",
    "            nn.Linear(512, 256),\n",
    "            nn.ReLU()\n",
    "        ])\n",
    "        self.linear_3 = nn.Sequential(*[\n",
    "            nn.Dropout(),\n",
    "            nn.Linear(512, 256),\n",
    "            nn.ReLU()\n",
    "        ])\n",
    "        self.classifier = nn.Sequential(*[\n",
    "            nn.Dropout(), \n",
    "            nn.Linear(256, num_classes)\n",
    "        ])\n",
    "\n",
    "    def forward(self, x):\n",
    "        x = self.encoder(x).view(x.size(0), -1)\n",
    "        x = self.linear(x)\n",
    "        x = torch.stack([self.linear_1(x), self.linear_2(x), self.linear_3(x)], dim=1)\n",
    "        x = self.classifier(x)\n",
    "        return x"
   ]
  },
  {
   "cell_type": "markdown",
   "metadata": {},
   "source": [
    "Note that `self.linear` is added for non-linearity after taking the output of the encoder. Dropout layers are taken from Garg's [open source code](https://github.com/bgeetika/Captcha-Decoder/). "
   ]
  },
  {
   "cell_type": "markdown",
   "metadata": {},
   "source": [
    "### Optimizer"
   ]
  },
  {
   "cell_type": "markdown",
   "metadata": {},
   "source": [
    "The optimizer I use is **stochastic gradient descent** with a learning rate of `1e-1` and momentum of `0.85`. Note that PyTorch's momentum is the implementation from [Sutskever et. al](http://www.cs.toronto.edu/%7Ehinton/absps/momentum.pdf) - in particular, the Nesterov Adaptive Gradient, which has the following update procedure:\n",
    "\n",
    "![](documentation/img/nag.png)\n",
    "\n",
    "\n",
    "The usage of momentum helps with (faster) convergence of the model. Initially, using SGD without momentum does not converge. So adding momentum helps a lot when it comes to model convergence."
   ]
  },
  {
   "cell_type": "markdown",
   "metadata": {},
   "source": [
    "### Loss function"
   ]
  },
  {
   "cell_type": "markdown",
   "metadata": {},
   "source": [
    "The loss function I use in this problem is **cross-entropy** loss function since this is a multi-class classfication problem."
   ]
  },
  {
   "cell_type": "markdown",
   "metadata": {},
   "source": [
    "### Performance metric"
   ]
  },
  {
   "cell_type": "markdown",
   "metadata": {},
   "source": [
    "As our metric of the model's performance, I will be using **accuracy**."
   ]
  },
  {
   "cell_type": "code",
   "execution_count": 30,
   "metadata": {},
   "outputs": [],
   "source": [
    "def calculate_accuracy(predictions, labels):\n",
    "    predictions = nn.LogSoftmax(dim=1)(predictions)\n",
    "    predictions = torch.max(predictions, dim=1)[1].view(-1)\n",
    "    \n",
    "    return torch.sum(predictions == labels.data).float() / len(labels)"
   ]
  },
  {
   "cell_type": "markdown",
   "metadata": {},
   "source": [
    "### Training and evaluation loop"
   ]
  },
  {
   "cell_type": "markdown",
   "metadata": {},
   "source": [
    "Before training and evaluating our model, let's write a helper function to help us do that."
   ]
  },
  {
   "cell_type": "code",
   "execution_count": 29,
   "metadata": {},
   "outputs": [],
   "source": [
    "def train_validate_model(model, optimizer, criterion, training_ds, validation_ds, checkpoint_model=False, training_ds_batch_size=64, validation_ds_batch_size=64, num_epochs=10):\n",
    "    # Create dataloader for batching support of every dataset\n",
    "    training_dl = DataLoader(training_ds, batch_size=training_ds_batch_size, shuffle=True, num_workers=4)\n",
    "    validation_dl = DataLoader(validation_ds, batch_size=validation_ds_batch_size, num_workers=4)\n",
    "\n",
    "    # This is used for tracking accuracies and losses for model checkpointing\n",
    "    final_training_losses, final_validation_losses = [], []\n",
    "    final_training_accuracies, final_validation_accuracies = [], []\n",
    "\n",
    "    for epoch in range(1, num_epochs + 1):\n",
    "        print(\"Starting epoch {}...\".format(epoch))\n",
    "\n",
    "        training_loss = 0.0\n",
    "        training_accuracies = []\n",
    "        \n",
    "        # Start training model\n",
    "        model.train()\n",
    "\n",
    "        for inputs, labels in tqdm_notebook(training_dl, desc=\"[TRAINING]\"):\n",
    "            optimizer.zero_grad()\n",
    "\n",
    "            inputs = inputs.to(DEVICE)\n",
    "            labels = labels.to(DEVICE)\n",
    "\n",
    "            predictions = model(inputs)\n",
    "            predictions = predictions.view(predictions.size(0) * predictions.size(1), -1)\n",
    "            labels = labels.view(-1)\n",
    "            loss = criterion(predictions, labels)\n",
    "\n",
    "            loss.backward()\n",
    "            optimizer.step()\n",
    "\n",
    "            training_loss += loss.item()\n",
    "            training_accuracies.append(calculate_accuracy(predictions, labels).item())\n",
    "\n",
    "        epoch_training_accuracy = sum(training_accuracies) / len(training_accuracies)\n",
    "        epoch_training_loss = training_loss / len(training_dl)\n",
    "\n",
    "        print(\"[TRAINING] Epoch {} loss is {:.4f}\".format(epoch, epoch_training_loss))\n",
    "        print(\"[TRAINING] Epoch {} accuracy is {:.4f}\".format(epoch, epoch_training_accuracy))\n",
    "\n",
    "        validation_loss = 0.0\n",
    "        validation_accuracies = []\n",
    "\n",
    "        # Evaluate the model\n",
    "        model.eval()\n",
    "        \n",
    "        with torch.no_grad():\n",
    "            for inputs, labels in tqdm_notebook(validation_dl, desc=\"[VALIDATION]\"):\n",
    "                inputs = inputs.to(DEVICE)\n",
    "                labels = labels.to(DEVICE)\n",
    "\n",
    "                predictions = model(inputs)\n",
    "                predictions = predictions.view(predictions.size(0) * predictions.size(1), -1)\n",
    "                labels = labels.view(-1)\n",
    "                loss = criterion(predictions, labels)\n",
    "\n",
    "                validation_loss += loss.item()\n",
    "                validation_accuracies.append(calculate_accuracy(predictions, labels).item())\n",
    "\n",
    "        epoch_validation_accuracy = sum(validation_accuracies) / len(validation_accuracies)\n",
    "        epoch_validation_loss = validation_loss / len(validation_dl)\n",
    "\n",
    "        print(\"[VALIDATION] Epoch {} loss is {:.4f}\".format(epoch, epoch_validation_loss))\n",
    "        print(\"[VALIDATION] Epoch {} accuracy is {:.4f}\\n\".format(epoch, epoch_validation_accuracy))\n",
    "\n",
    "        if checkpoint_model:\n",
    "            final_training_accuracies.append(epoch_training_accuracy)\n",
    "            final_training_losses.append(epoch_training_loss)\n",
    "            final_validation_accuracies.append(epoch_validation_accuracy)\n",
    "            final_validation_losses.append(epoch_validation_loss)\n",
    "\n",
    "        print(\"Completed epoch {}!\\n\".format(epoch))\n",
    "\n",
    "    if checkpoint_model:\n",
    "        save_model_checkpoint(\n",
    "            model, \n",
    "            optimizer, \n",
    "            final_training_losses, \n",
    "            final_validation_losses, \n",
    "            final_training_accuracies, \n",
    "            final_validation_accuracies, \n",
    "            CAPTCHACNNCLASSIFIER_MODEL_CHECKPOINT_FILEPATH.format(epoch)\n",
    "        )"
   ]
  },
  {
   "cell_type": "markdown",
   "metadata": {},
   "source": [
    "### Model checkpointing"
   ]
  },
  {
   "cell_type": "markdown",
   "metadata": {},
   "source": [
    "In addition, let's add some helper functions to checkpoint our models."
   ]
  },
  {
   "cell_type": "code",
   "execution_count": 12,
   "metadata": {},
   "outputs": [],
   "source": [
    "def save_model_checkpoint(model, optimizer, training_losses, validation_losses, training_accuracies, validation_accuracies, filepath):\n",
    "    model_checkpoint = {\n",
    "        MODEL_KEY: model.state_dict(),\n",
    "        OPTIMIZER_KEY: optimizer.state_dict(), \n",
    "        TRAINING_LOSSES_KEY: training_losses, \n",
    "        VALIDATION_LOSSES_KEY: validation_losses,\n",
    "        TRAINING_ACCURACIES_KEY: training_accuracies,\n",
    "        VALIDATION_ACCURACIES_KEY: validation_accuracies\n",
    "    }\n",
    "\n",
    "    torch.save(model_checkpoint, filepath)\n",
    "\n",
    "def load_model_checkpoint(model, optimizer, filepath):\n",
    "    model_checkpoint = torch.load(filepath)\n",
    "    model.load_state_dict(model_checkpoint[MODEL_KEY])\n",
    "    optimizer.load_state_dict(model_checkpoint[OPTIMIZER_KEY])\n",
    "\n",
    "    return model, optimizer, model_checkpoint[TRAINING_LOSSES_KEY], model_checkpoint[VALIDATION_LOSSES_KEY], model_checkpoint[TRAINING_ACCURACIES_KEY], model_checkpoint[VALIDATION_ACCURACIES_KEY]"
   ]
  },
  {
   "cell_type": "markdown",
   "metadata": {},
   "source": [
    "### Putting it all together"
   ]
  },
  {
   "cell_type": "markdown",
   "metadata": {},
   "source": [
    "Now we can proceed with initializing our model, optimizer, and loss function to start the training and evaluation of our model. Note that the model is trained for **100 epochs** with training batch size of **1024**."
   ]
  },
  {
   "cell_type": "code",
   "execution_count": 13,
   "metadata": {},
   "outputs": [],
   "source": [
    "captcha_cnn_classifier = CAPTCHACNNClassifier(NUM_CHARS, len(vocab.labels_to_idx), DEVICE).to(DEVICE)\n",
    "criterion = nn.CrossEntropyLoss()\n",
    "optimizer = optim.SGD(captcha_cnn_classifier.parameters(), lr=LR, momentum=MOMENTUM)"
   ]
  },
  {
   "cell_type": "markdown",
   "metadata": {},
   "source": [
    "Let's train the model. Note that under `models/checkpoints` there is already a pre-trained model. As a result, the line of code below has been commented. Uncomment this line of code to train from scratch. Ensure that `checkpoint_model` is set accordingly."
   ]
  },
  {
   "cell_type": "code",
   "execution_count": 72,
   "metadata": {
    "scrolled": true
   },
   "outputs": [
    {
     "name": "stdout",
     "output_type": "stream",
     "text": [
      "Starting epoch 1...\n"
     ]
    },
    {
     "data": {
      "application/vnd.jupyter.widget-view+json": {
       "model_id": "94f6a20d5a9947b4aff66d8e0832ca87",
       "version_major": 2,
       "version_minor": 0
      },
      "text/plain": [
       "HBox(children=(IntProgress(value=0, description='[TRAINING]', max=42, style=ProgressStyle(description_width='i…"
      ]
     },
     "metadata": {},
     "output_type": "display_data"
    },
    {
     "name": "stdout",
     "output_type": "stream",
     "text": [
      "[TRAINING] Epoch 1 loss is 3.2586\n",
      "[TRAINING] Epoch 1 accuracy is 0.0385\n"
     ]
    },
    {
     "data": {
      "application/vnd.jupyter.widget-view+json": {
       "model_id": "adedc74fe67640eb96f163588b490b07",
       "version_major": 2,
       "version_minor": 0
      },
      "text/plain": [
       "HBox(children=(IntProgress(value=0, description='[VALIDATION]', max=74, style=ProgressStyle(description_width=…"
      ]
     },
     "metadata": {},
     "output_type": "display_data"
    },
    {
     "name": "stdout",
     "output_type": "stream",
     "text": [
      "[VALIDATION] Epoch 1 loss is 3.2584\n",
      "[VALIDATION] Epoch 1 accuracy is 0.0372\n",
      "\n",
      "Completed epoch 1!\n",
      "\n",
      "Starting epoch 2...\n"
     ]
    },
    {
     "data": {
      "application/vnd.jupyter.widget-view+json": {
       "model_id": "8f3ca076b29f49a8a29bb5110ceb697f",
       "version_major": 2,
       "version_minor": 0
      },
      "text/plain": [
       "HBox(children=(IntProgress(value=0, description='[TRAINING]', max=42, style=ProgressStyle(description_width='i…"
      ]
     },
     "metadata": {},
     "output_type": "display_data"
    },
    {
     "name": "stdout",
     "output_type": "stream",
     "text": [
      "[TRAINING] Epoch 2 loss is 3.2583\n",
      "[TRAINING] Epoch 2 accuracy is 0.0390\n"
     ]
    },
    {
     "data": {
      "application/vnd.jupyter.widget-view+json": {
       "model_id": "72f6a94ddadb4714b9161a3d8850ff02",
       "version_major": 2,
       "version_minor": 0
      },
      "text/plain": [
       "HBox(children=(IntProgress(value=0, description='[VALIDATION]', max=74, style=ProgressStyle(description_width=…"
      ]
     },
     "metadata": {},
     "output_type": "display_data"
    },
    {
     "name": "stdout",
     "output_type": "stream",
     "text": [
      "[VALIDATION] Epoch 2 loss is 3.2583\n",
      "[VALIDATION] Epoch 2 accuracy is 0.0389\n",
      "\n",
      "Completed epoch 2!\n",
      "\n",
      "Starting epoch 3...\n"
     ]
    },
    {
     "data": {
      "application/vnd.jupyter.widget-view+json": {
       "model_id": "215bc001b7524dbca478fb8f6d6796e3",
       "version_major": 2,
       "version_minor": 0
      },
      "text/plain": [
       "HBox(children=(IntProgress(value=0, description='[TRAINING]', max=42, style=ProgressStyle(description_width='i…"
      ]
     },
     "metadata": {},
     "output_type": "display_data"
    },
    {
     "name": "stdout",
     "output_type": "stream",
     "text": [
      "[TRAINING] Epoch 3 loss is 3.2581\n",
      "[TRAINING] Epoch 3 accuracy is 0.0398\n"
     ]
    },
    {
     "data": {
      "application/vnd.jupyter.widget-view+json": {
       "model_id": "b116190ae5914d5ba7b17b8f0ecc995e",
       "version_major": 2,
       "version_minor": 0
      },
      "text/plain": [
       "HBox(children=(IntProgress(value=0, description='[VALIDATION]', max=74, style=ProgressStyle(description_width=…"
      ]
     },
     "metadata": {},
     "output_type": "display_data"
    },
    {
     "name": "stdout",
     "output_type": "stream",
     "text": [
      "[VALIDATION] Epoch 3 loss is 3.2581\n",
      "[VALIDATION] Epoch 3 accuracy is 0.0422\n",
      "\n",
      "Completed epoch 3!\n",
      "\n",
      "Starting epoch 4...\n"
     ]
    },
    {
     "data": {
      "application/vnd.jupyter.widget-view+json": {
       "model_id": "b80f8b4a05f2431c9e499e8de6c3aa50",
       "version_major": 2,
       "version_minor": 0
      },
      "text/plain": [
       "HBox(children=(IntProgress(value=0, description='[TRAINING]', max=42, style=ProgressStyle(description_width='i…"
      ]
     },
     "metadata": {},
     "output_type": "display_data"
    },
    {
     "name": "stdout",
     "output_type": "stream",
     "text": [
      "[TRAINING] Epoch 4 loss is 3.2579\n",
      "[TRAINING] Epoch 4 accuracy is 0.0403\n"
     ]
    },
    {
     "data": {
      "application/vnd.jupyter.widget-view+json": {
       "model_id": "8e8696694ced48518592394801543938",
       "version_major": 2,
       "version_minor": 0
      },
      "text/plain": [
       "HBox(children=(IntProgress(value=0, description='[VALIDATION]', max=74, style=ProgressStyle(description_width=…"
      ]
     },
     "metadata": {},
     "output_type": "display_data"
    },
    {
     "name": "stdout",
     "output_type": "stream",
     "text": [
      "[VALIDATION] Epoch 4 loss is 3.2579\n",
      "[VALIDATION] Epoch 4 accuracy is 0.0364\n",
      "\n",
      "Completed epoch 4!\n",
      "\n",
      "Starting epoch 5...\n"
     ]
    },
    {
     "data": {
      "application/vnd.jupyter.widget-view+json": {
       "model_id": "8340b5a1e4484abcb5febd8ed42493a4",
       "version_major": 2,
       "version_minor": 0
      },
      "text/plain": [
       "HBox(children=(IntProgress(value=0, description='[TRAINING]', max=42, style=ProgressStyle(description_width='i…"
      ]
     },
     "metadata": {},
     "output_type": "display_data"
    },
    {
     "name": "stdout",
     "output_type": "stream",
     "text": [
      "[TRAINING] Epoch 5 loss is 3.2577\n",
      "[TRAINING] Epoch 5 accuracy is 0.0413\n"
     ]
    },
    {
     "data": {
      "application/vnd.jupyter.widget-view+json": {
       "model_id": "6d64b7944b4240d38d8b90598857d1c4",
       "version_major": 2,
       "version_minor": 0
      },
      "text/plain": [
       "HBox(children=(IntProgress(value=0, description='[VALIDATION]', max=74, style=ProgressStyle(description_width=…"
      ]
     },
     "metadata": {},
     "output_type": "display_data"
    },
    {
     "name": "stdout",
     "output_type": "stream",
     "text": [
      "[VALIDATION] Epoch 5 loss is 3.2575\n",
      "[VALIDATION] Epoch 5 accuracy is 0.0398\n",
      "\n",
      "Completed epoch 5!\n",
      "\n",
      "Starting epoch 6...\n"
     ]
    },
    {
     "data": {
      "application/vnd.jupyter.widget-view+json": {
       "model_id": "65e01043d9484132bf08bbf0c5f4284f",
       "version_major": 2,
       "version_minor": 0
      },
      "text/plain": [
       "HBox(children=(IntProgress(value=0, description='[TRAINING]', max=42, style=ProgressStyle(description_width='i…"
      ]
     },
     "metadata": {},
     "output_type": "display_data"
    },
    {
     "name": "stdout",
     "output_type": "stream",
     "text": [
      "[TRAINING] Epoch 6 loss is 3.2571\n",
      "[TRAINING] Epoch 6 accuracy is 0.0438\n"
     ]
    },
    {
     "data": {
      "application/vnd.jupyter.widget-view+json": {
       "model_id": "21bc89d08fcb4da7b63b54e86d7200bc",
       "version_major": 2,
       "version_minor": 0
      },
      "text/plain": [
       "HBox(children=(IntProgress(value=0, description='[VALIDATION]', max=74, style=ProgressStyle(description_width=…"
      ]
     },
     "metadata": {},
     "output_type": "display_data"
    },
    {
     "name": "stdout",
     "output_type": "stream",
     "text": [
      "[VALIDATION] Epoch 6 loss is 3.2565\n",
      "[VALIDATION] Epoch 6 accuracy is 0.0589\n",
      "\n",
      "Completed epoch 6!\n",
      "\n",
      "Starting epoch 7...\n"
     ]
    },
    {
     "data": {
      "application/vnd.jupyter.widget-view+json": {
       "model_id": "c36be82a79f04ed28b8520cabb131d55",
       "version_major": 2,
       "version_minor": 0
      },
      "text/plain": [
       "HBox(children=(IntProgress(value=0, description='[TRAINING]', max=42, style=ProgressStyle(description_width='i…"
      ]
     },
     "metadata": {},
     "output_type": "display_data"
    },
    {
     "name": "stdout",
     "output_type": "stream",
     "text": [
      "[TRAINING] Epoch 7 loss is 3.2556\n",
      "[TRAINING] Epoch 7 accuracy is 0.0495\n"
     ]
    },
    {
     "data": {
      "application/vnd.jupyter.widget-view+json": {
       "model_id": "fa83a13a52b5440f8c2df573fbc3ae69",
       "version_major": 2,
       "version_minor": 0
      },
      "text/plain": [
       "HBox(children=(IntProgress(value=0, description='[VALIDATION]', max=74, style=ProgressStyle(description_width=…"
      ]
     },
     "metadata": {},
     "output_type": "display_data"
    },
    {
     "name": "stdout",
     "output_type": "stream",
     "text": [
      "[VALIDATION] Epoch 7 loss is 3.2536\n",
      "[VALIDATION] Epoch 7 accuracy is 0.1159\n",
      "\n",
      "Completed epoch 7!\n",
      "\n",
      "Starting epoch 8...\n"
     ]
    },
    {
     "data": {
      "application/vnd.jupyter.widget-view+json": {
       "model_id": "9deee36d6acf43b4bd0ffc3061736f41",
       "version_major": 2,
       "version_minor": 0
      },
      "text/plain": [
       "HBox(children=(IntProgress(value=0, description='[TRAINING]', max=42, style=ProgressStyle(description_width='i…"
      ]
     },
     "metadata": {},
     "output_type": "display_data"
    },
    {
     "name": "stdout",
     "output_type": "stream",
     "text": [
      "[TRAINING] Epoch 8 loss is 3.2502\n",
      "[TRAINING] Epoch 8 accuracy is 0.0618\n"
     ]
    },
    {
     "data": {
      "application/vnd.jupyter.widget-view+json": {
       "model_id": "93aa1f6fb31545128691de195fff2121",
       "version_major": 2,
       "version_minor": 0
      },
      "text/plain": [
       "HBox(children=(IntProgress(value=0, description='[VALIDATION]', max=74, style=ProgressStyle(description_width=…"
      ]
     },
     "metadata": {},
     "output_type": "display_data"
    },
    {
     "name": "stdout",
     "output_type": "stream",
     "text": [
      "[VALIDATION] Epoch 8 loss is 3.2386\n",
      "[VALIDATION] Epoch 8 accuracy is 0.1989\n",
      "\n",
      "Completed epoch 8!\n",
      "\n",
      "Starting epoch 9...\n"
     ]
    },
    {
     "data": {
      "application/vnd.jupyter.widget-view+json": {
       "model_id": "f3a47fc3ca174b23899f569eabac0b4d",
       "version_major": 2,
       "version_minor": 0
      },
      "text/plain": [
       "HBox(children=(IntProgress(value=0, description='[TRAINING]', max=42, style=ProgressStyle(description_width='i…"
      ]
     },
     "metadata": {},
     "output_type": "display_data"
    },
    {
     "name": "stdout",
     "output_type": "stream",
     "text": [
      "[TRAINING] Epoch 9 loss is 3.1642\n",
      "[TRAINING] Epoch 9 accuracy is 0.0986\n"
     ]
    },
    {
     "data": {
      "application/vnd.jupyter.widget-view+json": {
       "model_id": "cc191c46731a4c9d94822939fdf2098f",
       "version_major": 2,
       "version_minor": 0
      },
      "text/plain": [
       "HBox(children=(IntProgress(value=0, description='[VALIDATION]', max=74, style=ProgressStyle(description_width=…"
      ]
     },
     "metadata": {},
     "output_type": "display_data"
    },
    {
     "name": "stdout",
     "output_type": "stream",
     "text": [
      "[VALIDATION] Epoch 9 loss is 2.6441\n",
      "[VALIDATION] Epoch 9 accuracy is 0.2724\n",
      "\n",
      "Completed epoch 9!\n",
      "\n",
      "Starting epoch 10...\n"
     ]
    },
    {
     "data": {
      "application/vnd.jupyter.widget-view+json": {
       "model_id": "1f326de193914ee3861a52d542aaf2ba",
       "version_major": 2,
       "version_minor": 0
      },
      "text/plain": [
       "HBox(children=(IntProgress(value=0, description='[TRAINING]', max=42, style=ProgressStyle(description_width='i…"
      ]
     },
     "metadata": {},
     "output_type": "display_data"
    },
    {
     "name": "stdout",
     "output_type": "stream",
     "text": [
      "[TRAINING] Epoch 10 loss is 2.3262\n",
      "[TRAINING] Epoch 10 accuracy is 0.2825\n"
     ]
    },
    {
     "data": {
      "application/vnd.jupyter.widget-view+json": {
       "model_id": "c4ff7f5c062c40cd9999f16afd0158dd",
       "version_major": 2,
       "version_minor": 0
      },
      "text/plain": [
       "HBox(children=(IntProgress(value=0, description='[VALIDATION]', max=74, style=ProgressStyle(description_width=…"
      ]
     },
     "metadata": {},
     "output_type": "display_data"
    },
    {
     "name": "stdout",
     "output_type": "stream",
     "text": [
      "[VALIDATION] Epoch 10 loss is 1.4172\n",
      "[VALIDATION] Epoch 10 accuracy is 0.5698\n",
      "\n",
      "Completed epoch 10!\n",
      "\n",
      "Starting epoch 11...\n"
     ]
    },
    {
     "data": {
      "application/vnd.jupyter.widget-view+json": {
       "model_id": "5b2a0cb3388c4a749a6a70a92a3c8083",
       "version_major": 2,
       "version_minor": 0
      },
      "text/plain": [
       "HBox(children=(IntProgress(value=0, description='[TRAINING]', max=42, style=ProgressStyle(description_width='i…"
      ]
     },
     "metadata": {},
     "output_type": "display_data"
    },
    {
     "name": "stdout",
     "output_type": "stream",
     "text": [
      "[TRAINING] Epoch 11 loss is 2.5937\n",
      "[TRAINING] Epoch 11 accuracy is 0.2420\n"
     ]
    },
    {
     "data": {
      "application/vnd.jupyter.widget-view+json": {
       "model_id": "8b3da624409a4a9bb960140d977bc8c1",
       "version_major": 2,
       "version_minor": 0
      },
      "text/plain": [
       "HBox(children=(IntProgress(value=0, description='[VALIDATION]', max=74, style=ProgressStyle(description_width=…"
      ]
     },
     "metadata": {},
     "output_type": "display_data"
    },
    {
     "name": "stdout",
     "output_type": "stream",
     "text": [
      "[VALIDATION] Epoch 11 loss is 2.4326\n",
      "[VALIDATION] Epoch 11 accuracy is 0.3806\n",
      "\n",
      "Completed epoch 11!\n",
      "\n",
      "Starting epoch 12...\n"
     ]
    },
    {
     "data": {
      "application/vnd.jupyter.widget-view+json": {
       "model_id": "fdbe62a5ed7f4187bbea828d483ebd13",
       "version_major": 2,
       "version_minor": 0
      },
      "text/plain": [
       "HBox(children=(IntProgress(value=0, description='[TRAINING]', max=42, style=ProgressStyle(description_width='i…"
      ]
     },
     "metadata": {},
     "output_type": "display_data"
    },
    {
     "name": "stdout",
     "output_type": "stream",
     "text": [
      "[TRAINING] Epoch 12 loss is 1.7595\n",
      "[TRAINING] Epoch 12 accuracy is 0.4243\n"
     ]
    },
    {
     "data": {
      "application/vnd.jupyter.widget-view+json": {
       "model_id": "277faa074dd343c0a6ed49dac2ba7f78",
       "version_major": 2,
       "version_minor": 0
      },
      "text/plain": [
       "HBox(children=(IntProgress(value=0, description='[VALIDATION]', max=74, style=ProgressStyle(description_width=…"
      ]
     },
     "metadata": {},
     "output_type": "display_data"
    },
    {
     "name": "stdout",
     "output_type": "stream",
     "text": [
      "[VALIDATION] Epoch 12 loss is 0.9944\n",
      "[VALIDATION] Epoch 12 accuracy is 0.6911\n",
      "\n",
      "Completed epoch 12!\n",
      "\n",
      "Starting epoch 13...\n"
     ]
    },
    {
     "data": {
      "application/vnd.jupyter.widget-view+json": {
       "model_id": "6d4860a0cfd445159b526afa86bc2da3",
       "version_major": 2,
       "version_minor": 0
      },
      "text/plain": [
       "HBox(children=(IntProgress(value=0, description='[TRAINING]', max=42, style=ProgressStyle(description_width='i…"
      ]
     },
     "metadata": {},
     "output_type": "display_data"
    },
    {
     "name": "stdout",
     "output_type": "stream",
     "text": [
      "[TRAINING] Epoch 13 loss is 1.2250\n",
      "[TRAINING] Epoch 13 accuracy is 0.5799\n"
     ]
    },
    {
     "data": {
      "application/vnd.jupyter.widget-view+json": {
       "model_id": "9f2439c5679442459c497c5dca1b4780",
       "version_major": 2,
       "version_minor": 0
      },
      "text/plain": [
       "HBox(children=(IntProgress(value=0, description='[VALIDATION]', max=74, style=ProgressStyle(description_width=…"
      ]
     },
     "metadata": {},
     "output_type": "display_data"
    },
    {
     "name": "stdout",
     "output_type": "stream",
     "text": [
      "[VALIDATION] Epoch 13 loss is 0.6695\n",
      "[VALIDATION] Epoch 13 accuracy is 0.7978\n",
      "\n",
      "Completed epoch 13!\n",
      "\n",
      "Starting epoch 14...\n"
     ]
    },
    {
     "data": {
      "application/vnd.jupyter.widget-view+json": {
       "model_id": "e43f04585c2849b19a230fe8fad90593",
       "version_major": 2,
       "version_minor": 0
      },
      "text/plain": [
       "HBox(children=(IntProgress(value=0, description='[TRAINING]', max=42, style=ProgressStyle(description_width='i…"
      ]
     },
     "metadata": {},
     "output_type": "display_data"
    },
    {
     "name": "stdout",
     "output_type": "stream",
     "text": [
      "[TRAINING] Epoch 14 loss is 0.9806\n",
      "[TRAINING] Epoch 14 accuracy is 0.6627\n"
     ]
    },
    {
     "data": {
      "application/vnd.jupyter.widget-view+json": {
       "model_id": "a9fe63fbeda8426f8057e19fcbd78f96",
       "version_major": 2,
       "version_minor": 0
      },
      "text/plain": [
       "HBox(children=(IntProgress(value=0, description='[VALIDATION]', max=74, style=ProgressStyle(description_width=…"
      ]
     },
     "metadata": {},
     "output_type": "display_data"
    },
    {
     "name": "stdout",
     "output_type": "stream",
     "text": [
      "[VALIDATION] Epoch 14 loss is 0.5012\n",
      "[VALIDATION] Epoch 14 accuracy is 0.8711\n",
      "\n",
      "Completed epoch 14!\n",
      "\n",
      "Starting epoch 15...\n"
     ]
    },
    {
     "data": {
      "application/vnd.jupyter.widget-view+json": {
       "model_id": "2527f72861a84979a5f1fdcb5ba7f2d1",
       "version_major": 2,
       "version_minor": 0
      },
      "text/plain": [
       "HBox(children=(IntProgress(value=0, description='[TRAINING]', max=42, style=ProgressStyle(description_width='i…"
      ]
     },
     "metadata": {},
     "output_type": "display_data"
    },
    {
     "name": "stdout",
     "output_type": "stream",
     "text": [
      "[TRAINING] Epoch 15 loss is 0.8253\n",
      "[TRAINING] Epoch 15 accuracy is 0.7189\n"
     ]
    },
    {
     "data": {
      "application/vnd.jupyter.widget-view+json": {
       "model_id": "9e5ea0982fad4f739eaa7d38d14d99b0",
       "version_major": 2,
       "version_minor": 0
      },
      "text/plain": [
       "HBox(children=(IntProgress(value=0, description='[VALIDATION]', max=74, style=ProgressStyle(description_width=…"
      ]
     },
     "metadata": {},
     "output_type": "display_data"
    },
    {
     "name": "stdout",
     "output_type": "stream",
     "text": [
      "[VALIDATION] Epoch 15 loss is 0.4283\n",
      "[VALIDATION] Epoch 15 accuracy is 0.8920\n",
      "\n",
      "Completed epoch 15!\n",
      "\n",
      "Starting epoch 16...\n"
     ]
    },
    {
     "data": {
      "application/vnd.jupyter.widget-view+json": {
       "model_id": "f12aeba5e1db405ba6d127d9b1fd1e79",
       "version_major": 2,
       "version_minor": 0
      },
      "text/plain": [
       "HBox(children=(IntProgress(value=0, description='[TRAINING]', max=42, style=ProgressStyle(description_width='i…"
      ]
     },
     "metadata": {},
     "output_type": "display_data"
    },
    {
     "name": "stdout",
     "output_type": "stream",
     "text": [
      "[TRAINING] Epoch 16 loss is 0.6941\n",
      "[TRAINING] Epoch 16 accuracy is 0.7627\n"
     ]
    },
    {
     "data": {
      "application/vnd.jupyter.widget-view+json": {
       "model_id": "aba1582e690243ec8f93d1c9b45ae98c",
       "version_major": 2,
       "version_minor": 0
      },
      "text/plain": [
       "HBox(children=(IntProgress(value=0, description='[VALIDATION]', max=74, style=ProgressStyle(description_width=…"
      ]
     },
     "metadata": {},
     "output_type": "display_data"
    },
    {
     "name": "stdout",
     "output_type": "stream",
     "text": [
      "[VALIDATION] Epoch 16 loss is 0.3218\n",
      "[VALIDATION] Epoch 16 accuracy is 0.9072\n",
      "\n",
      "Completed epoch 16!\n",
      "\n",
      "Starting epoch 17...\n"
     ]
    },
    {
     "data": {
      "application/vnd.jupyter.widget-view+json": {
       "model_id": "284ef628ad92401d9d33892c93d148c8",
       "version_major": 2,
       "version_minor": 0
      },
      "text/plain": [
       "HBox(children=(IntProgress(value=0, description='[TRAINING]', max=42, style=ProgressStyle(description_width='i…"
      ]
     },
     "metadata": {},
     "output_type": "display_data"
    },
    {
     "name": "stdout",
     "output_type": "stream",
     "text": [
      "[TRAINING] Epoch 17 loss is 0.6181\n",
      "[TRAINING] Epoch 17 accuracy is 0.7900\n"
     ]
    },
    {
     "data": {
      "application/vnd.jupyter.widget-view+json": {
       "model_id": "e4a8b45dfebd4766abccc70254344675",
       "version_major": 2,
       "version_minor": 0
      },
      "text/plain": [
       "HBox(children=(IntProgress(value=0, description='[VALIDATION]', max=74, style=ProgressStyle(description_width=…"
      ]
     },
     "metadata": {},
     "output_type": "display_data"
    },
    {
     "name": "stdout",
     "output_type": "stream",
     "text": [
      "[VALIDATION] Epoch 17 loss is 0.2555\n",
      "[VALIDATION] Epoch 17 accuracy is 0.9175\n",
      "\n",
      "Completed epoch 17!\n",
      "\n",
      "Starting epoch 18...\n"
     ]
    },
    {
     "data": {
      "application/vnd.jupyter.widget-view+json": {
       "model_id": "fc3b535220994e43b30489c0c9ddc462",
       "version_major": 2,
       "version_minor": 0
      },
      "text/plain": [
       "HBox(children=(IntProgress(value=0, description='[TRAINING]', max=42, style=ProgressStyle(description_width='i…"
      ]
     },
     "metadata": {},
     "output_type": "display_data"
    },
    {
     "name": "stdout",
     "output_type": "stream",
     "text": [
      "[TRAINING] Epoch 18 loss is 0.5345\n",
      "[TRAINING] Epoch 18 accuracy is 0.8206\n"
     ]
    },
    {
     "data": {
      "application/vnd.jupyter.widget-view+json": {
       "model_id": "c597464428004403937d95e43b3b889e",
       "version_major": 2,
       "version_minor": 0
      },
      "text/plain": [
       "HBox(children=(IntProgress(value=0, description='[VALIDATION]', max=74, style=ProgressStyle(description_width=…"
      ]
     },
     "metadata": {},
     "output_type": "display_data"
    },
    {
     "name": "stdout",
     "output_type": "stream",
     "text": [
      "[VALIDATION] Epoch 18 loss is 0.2017\n",
      "[VALIDATION] Epoch 18 accuracy is 0.9493\n",
      "\n",
      "Completed epoch 18!\n",
      "\n",
      "Starting epoch 19...\n"
     ]
    },
    {
     "data": {
      "application/vnd.jupyter.widget-view+json": {
       "model_id": "4f4ba27d4953457aaaac931c86161fed",
       "version_major": 2,
       "version_minor": 0
      },
      "text/plain": [
       "HBox(children=(IntProgress(value=0, description='[TRAINING]', max=42, style=ProgressStyle(description_width='i…"
      ]
     },
     "metadata": {},
     "output_type": "display_data"
    },
    {
     "name": "stdout",
     "output_type": "stream",
     "text": [
      "[TRAINING] Epoch 19 loss is 0.4664\n",
      "[TRAINING] Epoch 19 accuracy is 0.8432\n"
     ]
    },
    {
     "data": {
      "application/vnd.jupyter.widget-view+json": {
       "model_id": "921037ff1936451b81577533cb4e5dd0",
       "version_major": 2,
       "version_minor": 0
      },
      "text/plain": [
       "HBox(children=(IntProgress(value=0, description='[VALIDATION]', max=74, style=ProgressStyle(description_width=…"
      ]
     },
     "metadata": {},
     "output_type": "display_data"
    },
    {
     "name": "stdout",
     "output_type": "stream",
     "text": [
      "[VALIDATION] Epoch 19 loss is 0.1574\n",
      "[VALIDATION] Epoch 19 accuracy is 0.9556\n",
      "\n",
      "Completed epoch 19!\n",
      "\n",
      "Starting epoch 20...\n"
     ]
    },
    {
     "data": {
      "application/vnd.jupyter.widget-view+json": {
       "model_id": "0a761b85452741e8bfb4279590c0c145",
       "version_major": 2,
       "version_minor": 0
      },
      "text/plain": [
       "HBox(children=(IntProgress(value=0, description='[TRAINING]', max=42, style=ProgressStyle(description_width='i…"
      ]
     },
     "metadata": {},
     "output_type": "display_data"
    },
    {
     "name": "stdout",
     "output_type": "stream",
     "text": [
      "[TRAINING] Epoch 20 loss is 0.4180\n",
      "[TRAINING] Epoch 20 accuracy is 0.8588\n"
     ]
    },
    {
     "data": {
      "application/vnd.jupyter.widget-view+json": {
       "model_id": "60497dff8ba8475eb6ed0e4e3bf476fa",
       "version_major": 2,
       "version_minor": 0
      },
      "text/plain": [
       "HBox(children=(IntProgress(value=0, description='[VALIDATION]', max=74, style=ProgressStyle(description_width=…"
      ]
     },
     "metadata": {},
     "output_type": "display_data"
    },
    {
     "name": "stdout",
     "output_type": "stream",
     "text": [
      "[VALIDATION] Epoch 20 loss is 0.1222\n",
      "[VALIDATION] Epoch 20 accuracy is 0.9673\n",
      "\n",
      "Completed epoch 20!\n",
      "\n",
      "Starting epoch 21...\n"
     ]
    },
    {
     "data": {
      "application/vnd.jupyter.widget-view+json": {
       "model_id": "daf575f2d16243a986ad9e186d5aace6",
       "version_major": 2,
       "version_minor": 0
      },
      "text/plain": [
       "HBox(children=(IntProgress(value=0, description='[TRAINING]', max=42, style=ProgressStyle(description_width='i…"
      ]
     },
     "metadata": {},
     "output_type": "display_data"
    },
    {
     "name": "stdout",
     "output_type": "stream",
     "text": [
      "[TRAINING] Epoch 21 loss is 0.3687\n",
      "[TRAINING] Epoch 21 accuracy is 0.8770\n"
     ]
    },
    {
     "data": {
      "application/vnd.jupyter.widget-view+json": {
       "model_id": "816b31a2439a4827b9a3004144bc77ce",
       "version_major": 2,
       "version_minor": 0
      },
      "text/plain": [
       "HBox(children=(IntProgress(value=0, description='[VALIDATION]', max=74, style=ProgressStyle(description_width=…"
      ]
     },
     "metadata": {},
     "output_type": "display_data"
    },
    {
     "name": "stdout",
     "output_type": "stream",
     "text": [
      "[VALIDATION] Epoch 21 loss is 0.1251\n",
      "[VALIDATION] Epoch 21 accuracy is 0.9656\n",
      "\n",
      "Completed epoch 21!\n",
      "\n",
      "Starting epoch 22...\n"
     ]
    },
    {
     "data": {
      "application/vnd.jupyter.widget-view+json": {
       "model_id": "64ee5391e066486291a61485449138aa",
       "version_major": 2,
       "version_minor": 0
      },
      "text/plain": [
       "HBox(children=(IntProgress(value=0, description='[TRAINING]', max=42, style=ProgressStyle(description_width='i…"
      ]
     },
     "metadata": {},
     "output_type": "display_data"
    },
    {
     "name": "stdout",
     "output_type": "stream",
     "text": [
      "[TRAINING] Epoch 22 loss is 0.3427\n",
      "[TRAINING] Epoch 22 accuracy is 0.8850\n"
     ]
    },
    {
     "data": {
      "application/vnd.jupyter.widget-view+json": {
       "model_id": "096363507de94778bfcad2ef18ec2f5f",
       "version_major": 2,
       "version_minor": 0
      },
      "text/plain": [
       "HBox(children=(IntProgress(value=0, description='[VALIDATION]', max=74, style=ProgressStyle(description_width=…"
      ]
     },
     "metadata": {},
     "output_type": "display_data"
    },
    {
     "name": "stdout",
     "output_type": "stream",
     "text": [
      "[VALIDATION] Epoch 22 loss is 0.1052\n",
      "[VALIDATION] Epoch 22 accuracy is 0.9714\n",
      "\n",
      "Completed epoch 22!\n",
      "\n",
      "Starting epoch 23...\n"
     ]
    },
    {
     "data": {
      "application/vnd.jupyter.widget-view+json": {
       "model_id": "d033cabb1a8041c88be84b45403c74ca",
       "version_major": 2,
       "version_minor": 0
      },
      "text/plain": [
       "HBox(children=(IntProgress(value=0, description='[TRAINING]', max=42, style=ProgressStyle(description_width='i…"
      ]
     },
     "metadata": {},
     "output_type": "display_data"
    },
    {
     "name": "stdout",
     "output_type": "stream",
     "text": [
      "[TRAINING] Epoch 23 loss is 0.3196\n",
      "[TRAINING] Epoch 23 accuracy is 0.8939\n"
     ]
    },
    {
     "data": {
      "application/vnd.jupyter.widget-view+json": {
       "model_id": "03bb674e4a874bfe8e53eb5fd7fa526d",
       "version_major": 2,
       "version_minor": 0
      },
      "text/plain": [
       "HBox(children=(IntProgress(value=0, description='[VALIDATION]', max=74, style=ProgressStyle(description_width=…"
      ]
     },
     "metadata": {},
     "output_type": "display_data"
    },
    {
     "name": "stdout",
     "output_type": "stream",
     "text": [
      "[VALIDATION] Epoch 23 loss is 0.0915\n",
      "[VALIDATION] Epoch 23 accuracy is 0.9764\n",
      "\n",
      "Completed epoch 23!\n",
      "\n",
      "Starting epoch 24...\n"
     ]
    },
    {
     "data": {
      "application/vnd.jupyter.widget-view+json": {
       "model_id": "7eadb788558441eebb04c6f803fbc91c",
       "version_major": 2,
       "version_minor": 0
      },
      "text/plain": [
       "HBox(children=(IntProgress(value=0, description='[TRAINING]', max=42, style=ProgressStyle(description_width='i…"
      ]
     },
     "metadata": {},
     "output_type": "display_data"
    },
    {
     "name": "stdout",
     "output_type": "stream",
     "text": [
      "[TRAINING] Epoch 24 loss is 0.2889\n",
      "[TRAINING] Epoch 24 accuracy is 0.9034\n"
     ]
    },
    {
     "data": {
      "application/vnd.jupyter.widget-view+json": {
       "model_id": "50f6ac57be4c4c20922b3f816e8593ab",
       "version_major": 2,
       "version_minor": 0
      },
      "text/plain": [
       "HBox(children=(IntProgress(value=0, description='[VALIDATION]', max=74, style=ProgressStyle(description_width=…"
      ]
     },
     "metadata": {},
     "output_type": "display_data"
    },
    {
     "name": "stdout",
     "output_type": "stream",
     "text": [
      "[VALIDATION] Epoch 24 loss is 0.0819\n",
      "[VALIDATION] Epoch 24 accuracy is 0.9779\n",
      "\n",
      "Completed epoch 24!\n",
      "\n",
      "Starting epoch 25...\n"
     ]
    },
    {
     "data": {
      "application/vnd.jupyter.widget-view+json": {
       "model_id": "54b5f819310f498ba8d508f22175be5c",
       "version_major": 2,
       "version_minor": 0
      },
      "text/plain": [
       "HBox(children=(IntProgress(value=0, description='[TRAINING]', max=42, style=ProgressStyle(description_width='i…"
      ]
     },
     "metadata": {},
     "output_type": "display_data"
    },
    {
     "name": "stdout",
     "output_type": "stream",
     "text": [
      "[TRAINING] Epoch 25 loss is 0.2663\n",
      "[TRAINING] Epoch 25 accuracy is 0.9114\n"
     ]
    },
    {
     "data": {
      "application/vnd.jupyter.widget-view+json": {
       "model_id": "f5fd757b6c5d46d6bfa5b580e8c2502f",
       "version_major": 2,
       "version_minor": 0
      },
      "text/plain": [
       "HBox(children=(IntProgress(value=0, description='[VALIDATION]', max=74, style=ProgressStyle(description_width=…"
      ]
     },
     "metadata": {},
     "output_type": "display_data"
    },
    {
     "name": "stdout",
     "output_type": "stream",
     "text": [
      "[VALIDATION] Epoch 25 loss is 0.0662\n",
      "[VALIDATION] Epoch 25 accuracy is 0.9825\n",
      "\n",
      "Completed epoch 25!\n",
      "\n",
      "Starting epoch 26...\n"
     ]
    },
    {
     "data": {
      "application/vnd.jupyter.widget-view+json": {
       "model_id": "95b669fd968d4a8eb03e0169991981d9",
       "version_major": 2,
       "version_minor": 0
      },
      "text/plain": [
       "HBox(children=(IntProgress(value=0, description='[TRAINING]', max=42, style=ProgressStyle(description_width='i…"
      ]
     },
     "metadata": {},
     "output_type": "display_data"
    },
    {
     "name": "stdout",
     "output_type": "stream",
     "text": [
      "[TRAINING] Epoch 26 loss is 0.2437\n",
      "[TRAINING] Epoch 26 accuracy is 0.9192\n"
     ]
    },
    {
     "data": {
      "application/vnd.jupyter.widget-view+json": {
       "model_id": "dc41e4a8235d4c68afedb06c4141bc03",
       "version_major": 2,
       "version_minor": 0
      },
      "text/plain": [
       "HBox(children=(IntProgress(value=0, description='[VALIDATION]', max=74, style=ProgressStyle(description_width=…"
      ]
     },
     "metadata": {},
     "output_type": "display_data"
    },
    {
     "name": "stdout",
     "output_type": "stream",
     "text": [
      "[VALIDATION] Epoch 26 loss is 0.0593\n",
      "[VALIDATION] Epoch 26 accuracy is 0.9844\n",
      "\n",
      "Completed epoch 26!\n",
      "\n",
      "Starting epoch 27...\n"
     ]
    },
    {
     "data": {
      "application/vnd.jupyter.widget-view+json": {
       "model_id": "3d25b3ff31fc4f9395dfeb3b2ef3e279",
       "version_major": 2,
       "version_minor": 0
      },
      "text/plain": [
       "HBox(children=(IntProgress(value=0, description='[TRAINING]', max=42, style=ProgressStyle(description_width='i…"
      ]
     },
     "metadata": {},
     "output_type": "display_data"
    },
    {
     "name": "stdout",
     "output_type": "stream",
     "text": [
      "[TRAINING] Epoch 27 loss is 0.2280\n",
      "[TRAINING] Epoch 27 accuracy is 0.9246\n"
     ]
    },
    {
     "data": {
      "application/vnd.jupyter.widget-view+json": {
       "model_id": "358a9cae7157478abd669c1e5e8afc7c",
       "version_major": 2,
       "version_minor": 0
      },
      "text/plain": [
       "HBox(children=(IntProgress(value=0, description='[VALIDATION]', max=74, style=ProgressStyle(description_width=…"
      ]
     },
     "metadata": {},
     "output_type": "display_data"
    },
    {
     "name": "stdout",
     "output_type": "stream",
     "text": [
      "[VALIDATION] Epoch 27 loss is 0.0530\n",
      "[VALIDATION] Epoch 27 accuracy is 0.9857\n",
      "\n",
      "Completed epoch 27!\n",
      "\n",
      "Starting epoch 28...\n"
     ]
    },
    {
     "data": {
      "application/vnd.jupyter.widget-view+json": {
       "model_id": "11be1b1efd9349ff94b860178bedc983",
       "version_major": 2,
       "version_minor": 0
      },
      "text/plain": [
       "HBox(children=(IntProgress(value=0, description='[TRAINING]', max=42, style=ProgressStyle(description_width='i…"
      ]
     },
     "metadata": {},
     "output_type": "display_data"
    },
    {
     "name": "stdout",
     "output_type": "stream",
     "text": [
      "[TRAINING] Epoch 28 loss is 0.2091\n",
      "[TRAINING] Epoch 28 accuracy is 0.9308\n"
     ]
    },
    {
     "data": {
      "application/vnd.jupyter.widget-view+json": {
       "model_id": "d7ee4d993154496a91a2aba8520b4946",
       "version_major": 2,
       "version_minor": 0
      },
      "text/plain": [
       "HBox(children=(IntProgress(value=0, description='[VALIDATION]', max=74, style=ProgressStyle(description_width=…"
      ]
     },
     "metadata": {},
     "output_type": "display_data"
    },
    {
     "name": "stdout",
     "output_type": "stream",
     "text": [
      "[VALIDATION] Epoch 28 loss is 0.0478\n",
      "[VALIDATION] Epoch 28 accuracy is 0.9879\n",
      "\n",
      "Completed epoch 28!\n",
      "\n",
      "Starting epoch 29...\n"
     ]
    },
    {
     "data": {
      "application/vnd.jupyter.widget-view+json": {
       "model_id": "c1de421185684b4aac9f1faa5c0163ed",
       "version_major": 2,
       "version_minor": 0
      },
      "text/plain": [
       "HBox(children=(IntProgress(value=0, description='[TRAINING]', max=42, style=ProgressStyle(description_width='i…"
      ]
     },
     "metadata": {},
     "output_type": "display_data"
    },
    {
     "name": "stdout",
     "output_type": "stream",
     "text": [
      "[TRAINING] Epoch 29 loss is 0.2031\n",
      "[TRAINING] Epoch 29 accuracy is 0.9324\n"
     ]
    },
    {
     "data": {
      "application/vnd.jupyter.widget-view+json": {
       "model_id": "3b2407867ea2463086018a75a33d6a7c",
       "version_major": 2,
       "version_minor": 0
      },
      "text/plain": [
       "HBox(children=(IntProgress(value=0, description='[VALIDATION]', max=74, style=ProgressStyle(description_width=…"
      ]
     },
     "metadata": {},
     "output_type": "display_data"
    },
    {
     "name": "stdout",
     "output_type": "stream",
     "text": [
      "[VALIDATION] Epoch 29 loss is 0.0477\n",
      "[VALIDATION] Epoch 29 accuracy is 0.9873\n",
      "\n",
      "Completed epoch 29!\n",
      "\n",
      "Starting epoch 30...\n"
     ]
    },
    {
     "data": {
      "application/vnd.jupyter.widget-view+json": {
       "model_id": "032df8b6371c4a67940e7e0d7cc18784",
       "version_major": 2,
       "version_minor": 0
      },
      "text/plain": [
       "HBox(children=(IntProgress(value=0, description='[TRAINING]', max=42, style=ProgressStyle(description_width='i…"
      ]
     },
     "metadata": {},
     "output_type": "display_data"
    },
    {
     "name": "stdout",
     "output_type": "stream",
     "text": [
      "[TRAINING] Epoch 30 loss is 0.1866\n",
      "[TRAINING] Epoch 30 accuracy is 0.9388\n"
     ]
    },
    {
     "data": {
      "application/vnd.jupyter.widget-view+json": {
       "model_id": "04448050310446d1937b2fc1a695ad21",
       "version_major": 2,
       "version_minor": 0
      },
      "text/plain": [
       "HBox(children=(IntProgress(value=0, description='[VALIDATION]', max=74, style=ProgressStyle(description_width=…"
      ]
     },
     "metadata": {},
     "output_type": "display_data"
    },
    {
     "name": "stdout",
     "output_type": "stream",
     "text": [
      "[VALIDATION] Epoch 30 loss is 0.0403\n",
      "[VALIDATION] Epoch 30 accuracy is 0.9885\n",
      "\n",
      "Completed epoch 30!\n",
      "\n",
      "Starting epoch 31...\n"
     ]
    },
    {
     "data": {
      "application/vnd.jupyter.widget-view+json": {
       "model_id": "20c3fb92bc904d45a9402c14ad6ea76a",
       "version_major": 2,
       "version_minor": 0
      },
      "text/plain": [
       "HBox(children=(IntProgress(value=0, description='[TRAINING]', max=42, style=ProgressStyle(description_width='i…"
      ]
     },
     "metadata": {},
     "output_type": "display_data"
    },
    {
     "name": "stdout",
     "output_type": "stream",
     "text": [
      "[TRAINING] Epoch 31 loss is 0.1742\n",
      "[TRAINING] Epoch 31 accuracy is 0.9428\n"
     ]
    },
    {
     "data": {
      "application/vnd.jupyter.widget-view+json": {
       "model_id": "e336839d70014d159053c74d5eb9d5a1",
       "version_major": 2,
       "version_minor": 0
      },
      "text/plain": [
       "HBox(children=(IntProgress(value=0, description='[VALIDATION]', max=74, style=ProgressStyle(description_width=…"
      ]
     },
     "metadata": {},
     "output_type": "display_data"
    },
    {
     "name": "stdout",
     "output_type": "stream",
     "text": [
      "[VALIDATION] Epoch 31 loss is 0.0380\n",
      "[VALIDATION] Epoch 31 accuracy is 0.9892\n",
      "\n",
      "Completed epoch 31!\n",
      "\n",
      "Starting epoch 32...\n"
     ]
    },
    {
     "data": {
      "application/vnd.jupyter.widget-view+json": {
       "model_id": "d884c5f0b0d94657830c0057f616eac7",
       "version_major": 2,
       "version_minor": 0
      },
      "text/plain": [
       "HBox(children=(IntProgress(value=0, description='[TRAINING]', max=42, style=ProgressStyle(description_width='i…"
      ]
     },
     "metadata": {},
     "output_type": "display_data"
    },
    {
     "name": "stdout",
     "output_type": "stream",
     "text": [
      "[TRAINING] Epoch 32 loss is 0.1688\n",
      "[TRAINING] Epoch 32 accuracy is 0.9446\n"
     ]
    },
    {
     "data": {
      "application/vnd.jupyter.widget-view+json": {
       "model_id": "7d3acb1ba1e24307b098398a77fb16a7",
       "version_major": 2,
       "version_minor": 0
      },
      "text/plain": [
       "HBox(children=(IntProgress(value=0, description='[VALIDATION]', max=74, style=ProgressStyle(description_width=…"
      ]
     },
     "metadata": {},
     "output_type": "display_data"
    },
    {
     "name": "stdout",
     "output_type": "stream",
     "text": [
      "[VALIDATION] Epoch 32 loss is 0.0346\n",
      "[VALIDATION] Epoch 32 accuracy is 0.9905\n",
      "\n",
      "Completed epoch 32!\n",
      "\n",
      "Starting epoch 33...\n"
     ]
    },
    {
     "data": {
      "application/vnd.jupyter.widget-view+json": {
       "model_id": "1abfe3b2e1fc4580b620dec8a4890651",
       "version_major": 2,
       "version_minor": 0
      },
      "text/plain": [
       "HBox(children=(IntProgress(value=0, description='[TRAINING]', max=42, style=ProgressStyle(description_width='i…"
      ]
     },
     "metadata": {},
     "output_type": "display_data"
    },
    {
     "name": "stdout",
     "output_type": "stream",
     "text": [
      "[TRAINING] Epoch 33 loss is 0.1547\n",
      "[TRAINING] Epoch 33 accuracy is 0.9491\n"
     ]
    },
    {
     "data": {
      "application/vnd.jupyter.widget-view+json": {
       "model_id": "59b78fdc07284e65a09dde98e485a747",
       "version_major": 2,
       "version_minor": 0
      },
      "text/plain": [
       "HBox(children=(IntProgress(value=0, description='[VALIDATION]', max=74, style=ProgressStyle(description_width=…"
      ]
     },
     "metadata": {},
     "output_type": "display_data"
    },
    {
     "name": "stdout",
     "output_type": "stream",
     "text": [
      "[VALIDATION] Epoch 33 loss is 0.0335\n",
      "[VALIDATION] Epoch 33 accuracy is 0.9907\n",
      "\n",
      "Completed epoch 33!\n",
      "\n",
      "Starting epoch 34...\n"
     ]
    },
    {
     "data": {
      "application/vnd.jupyter.widget-view+json": {
       "model_id": "953827a5fd5447f8ae344155a9135f11",
       "version_major": 2,
       "version_minor": 0
      },
      "text/plain": [
       "HBox(children=(IntProgress(value=0, description='[TRAINING]', max=42, style=ProgressStyle(description_width='i…"
      ]
     },
     "metadata": {},
     "output_type": "display_data"
    },
    {
     "name": "stdout",
     "output_type": "stream",
     "text": [
      "[TRAINING] Epoch 34 loss is 0.1494\n",
      "[TRAINING] Epoch 34 accuracy is 0.9507\n"
     ]
    },
    {
     "data": {
      "application/vnd.jupyter.widget-view+json": {
       "model_id": "20565716cb3a431eb63e1cfb59fd9ca3",
       "version_major": 2,
       "version_minor": 0
      },
      "text/plain": [
       "HBox(children=(IntProgress(value=0, description='[VALIDATION]', max=74, style=ProgressStyle(description_width=…"
      ]
     },
     "metadata": {},
     "output_type": "display_data"
    },
    {
     "name": "stdout",
     "output_type": "stream",
     "text": [
      "[VALIDATION] Epoch 34 loss is 0.0317\n",
      "[VALIDATION] Epoch 34 accuracy is 0.9898\n",
      "\n",
      "Completed epoch 34!\n",
      "\n",
      "Starting epoch 35...\n"
     ]
    },
    {
     "data": {
      "application/vnd.jupyter.widget-view+json": {
       "model_id": "f787b3d05cfa49e0bb0377041250a904",
       "version_major": 2,
       "version_minor": 0
      },
      "text/plain": [
       "HBox(children=(IntProgress(value=0, description='[TRAINING]', max=42, style=ProgressStyle(description_width='i…"
      ]
     },
     "metadata": {},
     "output_type": "display_data"
    },
    {
     "name": "stdout",
     "output_type": "stream",
     "text": [
      "[TRAINING] Epoch 35 loss is 0.1385\n",
      "[TRAINING] Epoch 35 accuracy is 0.9539\n"
     ]
    },
    {
     "data": {
      "application/vnd.jupyter.widget-view+json": {
       "model_id": "c1567ac07ffb4f99ab85fb57704ec4cf",
       "version_major": 2,
       "version_minor": 0
      },
      "text/plain": [
       "HBox(children=(IntProgress(value=0, description='[VALIDATION]', max=74, style=ProgressStyle(description_width=…"
      ]
     },
     "metadata": {},
     "output_type": "display_data"
    },
    {
     "name": "stdout",
     "output_type": "stream",
     "text": [
      "[VALIDATION] Epoch 35 loss is 0.0392\n",
      "[VALIDATION] Epoch 35 accuracy is 0.9890\n",
      "\n",
      "Completed epoch 35!\n",
      "\n",
      "Starting epoch 36...\n"
     ]
    },
    {
     "data": {
      "application/vnd.jupyter.widget-view+json": {
       "model_id": "7b5d993a84b047a8b992420bde71b563",
       "version_major": 2,
       "version_minor": 0
      },
      "text/plain": [
       "HBox(children=(IntProgress(value=0, description='[TRAINING]', max=42, style=ProgressStyle(description_width='i…"
      ]
     },
     "metadata": {},
     "output_type": "display_data"
    },
    {
     "name": "stdout",
     "output_type": "stream",
     "text": [
      "[TRAINING] Epoch 36 loss is 0.1797\n",
      "[TRAINING] Epoch 36 accuracy is 0.9420\n"
     ]
    },
    {
     "data": {
      "application/vnd.jupyter.widget-view+json": {
       "model_id": "a5548081bacd4024ae1b1a067fbdc065",
       "version_major": 2,
       "version_minor": 0
      },
      "text/plain": [
       "HBox(children=(IntProgress(value=0, description='[VALIDATION]', max=74, style=ProgressStyle(description_width=…"
      ]
     },
     "metadata": {},
     "output_type": "display_data"
    },
    {
     "name": "stdout",
     "output_type": "stream",
     "text": [
      "[VALIDATION] Epoch 36 loss is 0.0297\n",
      "[VALIDATION] Epoch 36 accuracy is 0.9923\n",
      "\n",
      "Completed epoch 36!\n",
      "\n",
      "Starting epoch 37...\n"
     ]
    },
    {
     "data": {
      "application/vnd.jupyter.widget-view+json": {
       "model_id": "f95c22d19433487a8c60bf569605c627",
       "version_major": 2,
       "version_minor": 0
      },
      "text/plain": [
       "HBox(children=(IntProgress(value=0, description='[TRAINING]', max=42, style=ProgressStyle(description_width='i…"
      ]
     },
     "metadata": {},
     "output_type": "display_data"
    },
    {
     "name": "stdout",
     "output_type": "stream",
     "text": [
      "[TRAINING] Epoch 37 loss is 0.1277\n",
      "[TRAINING] Epoch 37 accuracy is 0.9576\n"
     ]
    },
    {
     "data": {
      "application/vnd.jupyter.widget-view+json": {
       "model_id": "dee1fb684dfb408d846d702a469b38f4",
       "version_major": 2,
       "version_minor": 0
      },
      "text/plain": [
       "HBox(children=(IntProgress(value=0, description='[VALIDATION]', max=74, style=ProgressStyle(description_width=…"
      ]
     },
     "metadata": {},
     "output_type": "display_data"
    },
    {
     "name": "stdout",
     "output_type": "stream",
     "text": [
      "[VALIDATION] Epoch 37 loss is 0.0298\n",
      "[VALIDATION] Epoch 37 accuracy is 0.9922\n",
      "\n",
      "Completed epoch 37!\n",
      "\n",
      "Starting epoch 38...\n"
     ]
    },
    {
     "data": {
      "application/vnd.jupyter.widget-view+json": {
       "model_id": "79b78e45d36a4268b373e77e841fb5c4",
       "version_major": 2,
       "version_minor": 0
      },
      "text/plain": [
       "HBox(children=(IntProgress(value=0, description='[TRAINING]', max=42, style=ProgressStyle(description_width='i…"
      ]
     },
     "metadata": {},
     "output_type": "display_data"
    },
    {
     "name": "stdout",
     "output_type": "stream",
     "text": [
      "[TRAINING] Epoch 38 loss is 0.1219\n",
      "[TRAINING] Epoch 38 accuracy is 0.9597\n"
     ]
    },
    {
     "data": {
      "application/vnd.jupyter.widget-view+json": {
       "model_id": "2206ae30ccc8408c8f2de5612574770b",
       "version_major": 2,
       "version_minor": 0
      },
      "text/plain": [
       "HBox(children=(IntProgress(value=0, description='[VALIDATION]', max=74, style=ProgressStyle(description_width=…"
      ]
     },
     "metadata": {},
     "output_type": "display_data"
    },
    {
     "name": "stdout",
     "output_type": "stream",
     "text": [
      "[VALIDATION] Epoch 38 loss is 0.0279\n",
      "[VALIDATION] Epoch 38 accuracy is 0.9917\n",
      "\n",
      "Completed epoch 38!\n",
      "\n",
      "Starting epoch 39...\n"
     ]
    },
    {
     "data": {
      "application/vnd.jupyter.widget-view+json": {
       "model_id": "c2f7735c324148f7a33fe87dfbee6dd8",
       "version_major": 2,
       "version_minor": 0
      },
      "text/plain": [
       "HBox(children=(IntProgress(value=0, description='[TRAINING]', max=42, style=ProgressStyle(description_width='i…"
      ]
     },
     "metadata": {},
     "output_type": "display_data"
    },
    {
     "name": "stdout",
     "output_type": "stream",
     "text": [
      "[TRAINING] Epoch 39 loss is 0.1209\n",
      "[TRAINING] Epoch 39 accuracy is 0.9602\n"
     ]
    },
    {
     "data": {
      "application/vnd.jupyter.widget-view+json": {
       "model_id": "87d7506913a6410d8d382deee7f541aa",
       "version_major": 2,
       "version_minor": 0
      },
      "text/plain": [
       "HBox(children=(IntProgress(value=0, description='[VALIDATION]', max=74, style=ProgressStyle(description_width=…"
      ]
     },
     "metadata": {},
     "output_type": "display_data"
    },
    {
     "name": "stdout",
     "output_type": "stream",
     "text": [
      "[VALIDATION] Epoch 39 loss is 0.0268\n",
      "[VALIDATION] Epoch 39 accuracy is 0.9933\n",
      "\n",
      "Completed epoch 39!\n",
      "\n",
      "Starting epoch 40...\n"
     ]
    },
    {
     "data": {
      "application/vnd.jupyter.widget-view+json": {
       "model_id": "19d64c1dae4f49c7b983744ebccb8aae",
       "version_major": 2,
       "version_minor": 0
      },
      "text/plain": [
       "HBox(children=(IntProgress(value=0, description='[TRAINING]', max=42, style=ProgressStyle(description_width='i…"
      ]
     },
     "metadata": {},
     "output_type": "display_data"
    },
    {
     "name": "stdout",
     "output_type": "stream",
     "text": [
      "[TRAINING] Epoch 40 loss is 0.1145\n",
      "[TRAINING] Epoch 40 accuracy is 0.9624\n"
     ]
    },
    {
     "data": {
      "application/vnd.jupyter.widget-view+json": {
       "model_id": "45acdeaca289436db5b9c9290ed855ef",
       "version_major": 2,
       "version_minor": 0
      },
      "text/plain": [
       "HBox(children=(IntProgress(value=0, description='[VALIDATION]', max=74, style=ProgressStyle(description_width=…"
      ]
     },
     "metadata": {},
     "output_type": "display_data"
    },
    {
     "name": "stdout",
     "output_type": "stream",
     "text": [
      "[VALIDATION] Epoch 40 loss is 0.0247\n",
      "[VALIDATION] Epoch 40 accuracy is 0.9928\n",
      "\n",
      "Completed epoch 40!\n",
      "\n",
      "Starting epoch 41...\n"
     ]
    },
    {
     "data": {
      "application/vnd.jupyter.widget-view+json": {
       "model_id": "71b4e713c8404d0bae0b736800c86496",
       "version_major": 2,
       "version_minor": 0
      },
      "text/plain": [
       "HBox(children=(IntProgress(value=0, description='[TRAINING]', max=42, style=ProgressStyle(description_width='i…"
      ]
     },
     "metadata": {},
     "output_type": "display_data"
    },
    {
     "name": "stdout",
     "output_type": "stream",
     "text": [
      "[TRAINING] Epoch 41 loss is 0.1091\n",
      "[TRAINING] Epoch 41 accuracy is 0.9644\n"
     ]
    },
    {
     "data": {
      "application/vnd.jupyter.widget-view+json": {
       "model_id": "16d0984d547c4791a82f573141fb648d",
       "version_major": 2,
       "version_minor": 0
      },
      "text/plain": [
       "HBox(children=(IntProgress(value=0, description='[VALIDATION]', max=74, style=ProgressStyle(description_width=…"
      ]
     },
     "metadata": {},
     "output_type": "display_data"
    },
    {
     "name": "stdout",
     "output_type": "stream",
     "text": [
      "[VALIDATION] Epoch 41 loss is 0.0233\n",
      "[VALIDATION] Epoch 41 accuracy is 0.9934\n",
      "\n",
      "Completed epoch 41!\n",
      "\n",
      "Starting epoch 42...\n"
     ]
    },
    {
     "data": {
      "application/vnd.jupyter.widget-view+json": {
       "model_id": "bce92365c72e4a5fb36580f84705efde",
       "version_major": 2,
       "version_minor": 0
      },
      "text/plain": [
       "HBox(children=(IntProgress(value=0, description='[TRAINING]', max=42, style=ProgressStyle(description_width='i…"
      ]
     },
     "metadata": {},
     "output_type": "display_data"
    },
    {
     "name": "stdout",
     "output_type": "stream",
     "text": [
      "[TRAINING] Epoch 42 loss is 0.1036\n",
      "[TRAINING] Epoch 42 accuracy is 0.9656\n"
     ]
    },
    {
     "data": {
      "application/vnd.jupyter.widget-view+json": {
       "model_id": "82db35efff214660ad03aec716d6bc7e",
       "version_major": 2,
       "version_minor": 0
      },
      "text/plain": [
       "HBox(children=(IntProgress(value=0, description='[VALIDATION]', max=74, style=ProgressStyle(description_width=…"
      ]
     },
     "metadata": {},
     "output_type": "display_data"
    },
    {
     "name": "stdout",
     "output_type": "stream",
     "text": [
      "[VALIDATION] Epoch 42 loss is 0.0230\n",
      "[VALIDATION] Epoch 42 accuracy is 0.9930\n",
      "\n",
      "Completed epoch 42!\n",
      "\n",
      "Starting epoch 43...\n"
     ]
    },
    {
     "data": {
      "application/vnd.jupyter.widget-view+json": {
       "model_id": "f61ad95ec00a4b60a9a2eaadfd84095a",
       "version_major": 2,
       "version_minor": 0
      },
      "text/plain": [
       "HBox(children=(IntProgress(value=0, description='[TRAINING]', max=42, style=ProgressStyle(description_width='i…"
      ]
     },
     "metadata": {},
     "output_type": "display_data"
    },
    {
     "name": "stdout",
     "output_type": "stream",
     "text": [
      "[TRAINING] Epoch 43 loss is 0.0985\n",
      "[TRAINING] Epoch 43 accuracy is 0.9673\n"
     ]
    },
    {
     "data": {
      "application/vnd.jupyter.widget-view+json": {
       "model_id": "fe83db644d904a39afe06200d14a5fd6",
       "version_major": 2,
       "version_minor": 0
      },
      "text/plain": [
       "HBox(children=(IntProgress(value=0, description='[VALIDATION]', max=74, style=ProgressStyle(description_width=…"
      ]
     },
     "metadata": {},
     "output_type": "display_data"
    },
    {
     "name": "stdout",
     "output_type": "stream",
     "text": [
      "[VALIDATION] Epoch 43 loss is 0.0198\n",
      "[VALIDATION] Epoch 43 accuracy is 0.9944\n",
      "\n",
      "Completed epoch 43!\n",
      "\n",
      "Starting epoch 44...\n"
     ]
    },
    {
     "data": {
      "application/vnd.jupyter.widget-view+json": {
       "model_id": "c1772839e13846b0ba251b6ff6e13658",
       "version_major": 2,
       "version_minor": 0
      },
      "text/plain": [
       "HBox(children=(IntProgress(value=0, description='[TRAINING]', max=42, style=ProgressStyle(description_width='i…"
      ]
     },
     "metadata": {},
     "output_type": "display_data"
    },
    {
     "name": "stdout",
     "output_type": "stream",
     "text": [
      "[TRAINING] Epoch 44 loss is 0.0977\n",
      "[TRAINING] Epoch 44 accuracy is 0.9683\n"
     ]
    },
    {
     "data": {
      "application/vnd.jupyter.widget-view+json": {
       "model_id": "da98de79928847079b06ba40512c646b",
       "version_major": 2,
       "version_minor": 0
      },
      "text/plain": [
       "HBox(children=(IntProgress(value=0, description='[VALIDATION]', max=74, style=ProgressStyle(description_width=…"
      ]
     },
     "metadata": {},
     "output_type": "display_data"
    },
    {
     "name": "stdout",
     "output_type": "stream",
     "text": [
      "[VALIDATION] Epoch 44 loss is 0.0207\n",
      "[VALIDATION] Epoch 44 accuracy is 0.9944\n",
      "\n",
      "Completed epoch 44!\n",
      "\n",
      "Starting epoch 45...\n"
     ]
    },
    {
     "data": {
      "application/vnd.jupyter.widget-view+json": {
       "model_id": "d8dafb36c6dc4a6b888fdd2d8efe6577",
       "version_major": 2,
       "version_minor": 0
      },
      "text/plain": [
       "HBox(children=(IntProgress(value=0, description='[TRAINING]', max=42, style=ProgressStyle(description_width='i…"
      ]
     },
     "metadata": {},
     "output_type": "display_data"
    },
    {
     "name": "stdout",
     "output_type": "stream",
     "text": [
      "[TRAINING] Epoch 45 loss is 0.0908\n",
      "[TRAINING] Epoch 45 accuracy is 0.9695\n"
     ]
    },
    {
     "data": {
      "application/vnd.jupyter.widget-view+json": {
       "model_id": "97475584c6b14127b9cb637ac4f09f27",
       "version_major": 2,
       "version_minor": 0
      },
      "text/plain": [
       "HBox(children=(IntProgress(value=0, description='[VALIDATION]', max=74, style=ProgressStyle(description_width=…"
      ]
     },
     "metadata": {},
     "output_type": "display_data"
    },
    {
     "name": "stdout",
     "output_type": "stream",
     "text": [
      "[VALIDATION] Epoch 45 loss is 0.0211\n",
      "[VALIDATION] Epoch 45 accuracy is 0.9932\n",
      "\n",
      "Completed epoch 45!\n",
      "\n",
      "Starting epoch 46...\n"
     ]
    },
    {
     "data": {
      "application/vnd.jupyter.widget-view+json": {
       "model_id": "4b711d6987bd45228965d90bd0ced115",
       "version_major": 2,
       "version_minor": 0
      },
      "text/plain": [
       "HBox(children=(IntProgress(value=0, description='[TRAINING]', max=42, style=ProgressStyle(description_width='i…"
      ]
     },
     "metadata": {},
     "output_type": "display_data"
    },
    {
     "name": "stdout",
     "output_type": "stream",
     "text": [
      "[TRAINING] Epoch 46 loss is 0.0922\n",
      "[TRAINING] Epoch 46 accuracy is 0.9698\n"
     ]
    },
    {
     "data": {
      "application/vnd.jupyter.widget-view+json": {
       "model_id": "4331d99becd44ecdb3a284e3eb806e2a",
       "version_major": 2,
       "version_minor": 0
      },
      "text/plain": [
       "HBox(children=(IntProgress(value=0, description='[VALIDATION]', max=74, style=ProgressStyle(description_width=…"
      ]
     },
     "metadata": {},
     "output_type": "display_data"
    },
    {
     "name": "stdout",
     "output_type": "stream",
     "text": [
      "[VALIDATION] Epoch 46 loss is 0.0205\n",
      "[VALIDATION] Epoch 46 accuracy is 0.9932\n",
      "\n",
      "Completed epoch 46!\n",
      "\n",
      "Starting epoch 47...\n"
     ]
    },
    {
     "data": {
      "application/vnd.jupyter.widget-view+json": {
       "model_id": "31320b6cd2c74c9eb8715a11462ee464",
       "version_major": 2,
       "version_minor": 0
      },
      "text/plain": [
       "HBox(children=(IntProgress(value=0, description='[TRAINING]', max=42, style=ProgressStyle(description_width='i…"
      ]
     },
     "metadata": {},
     "output_type": "display_data"
    },
    {
     "name": "stdout",
     "output_type": "stream",
     "text": [
      "[TRAINING] Epoch 47 loss is 0.0883\n",
      "[TRAINING] Epoch 47 accuracy is 0.9714\n"
     ]
    },
    {
     "data": {
      "application/vnd.jupyter.widget-view+json": {
       "model_id": "a7e8819922fc4c3d863ae4ef9cd73c66",
       "version_major": 2,
       "version_minor": 0
      },
      "text/plain": [
       "HBox(children=(IntProgress(value=0, description='[VALIDATION]', max=74, style=ProgressStyle(description_width=…"
      ]
     },
     "metadata": {},
     "output_type": "display_data"
    },
    {
     "name": "stdout",
     "output_type": "stream",
     "text": [
      "[VALIDATION] Epoch 47 loss is 0.0187\n",
      "[VALIDATION] Epoch 47 accuracy is 0.9943\n",
      "\n",
      "Completed epoch 47!\n",
      "\n",
      "Starting epoch 48...\n"
     ]
    },
    {
     "data": {
      "application/vnd.jupyter.widget-view+json": {
       "model_id": "9104d906025146e8b4122ff86ab57a02",
       "version_major": 2,
       "version_minor": 0
      },
      "text/plain": [
       "HBox(children=(IntProgress(value=0, description='[TRAINING]', max=42, style=ProgressStyle(description_width='i…"
      ]
     },
     "metadata": {},
     "output_type": "display_data"
    },
    {
     "name": "stdout",
     "output_type": "stream",
     "text": [
      "[TRAINING] Epoch 48 loss is 0.0862\n",
      "[TRAINING] Epoch 48 accuracy is 0.9726\n"
     ]
    },
    {
     "data": {
      "application/vnd.jupyter.widget-view+json": {
       "model_id": "f79d589e79cb419db876ec85ef138037",
       "version_major": 2,
       "version_minor": 0
      },
      "text/plain": [
       "HBox(children=(IntProgress(value=0, description='[VALIDATION]', max=74, style=ProgressStyle(description_width=…"
      ]
     },
     "metadata": {},
     "output_type": "display_data"
    },
    {
     "name": "stdout",
     "output_type": "stream",
     "text": [
      "[VALIDATION] Epoch 48 loss is 0.0197\n",
      "[VALIDATION] Epoch 48 accuracy is 0.9943\n",
      "\n",
      "Completed epoch 48!\n",
      "\n",
      "Starting epoch 49...\n"
     ]
    },
    {
     "data": {
      "application/vnd.jupyter.widget-view+json": {
       "model_id": "038bdb7c52e54172bbb173c234bd20ad",
       "version_major": 2,
       "version_minor": 0
      },
      "text/plain": [
       "HBox(children=(IntProgress(value=0, description='[TRAINING]', max=42, style=ProgressStyle(description_width='i…"
      ]
     },
     "metadata": {},
     "output_type": "display_data"
    },
    {
     "name": "stdout",
     "output_type": "stream",
     "text": [
      "[TRAINING] Epoch 49 loss is 0.0816\n",
      "[TRAINING] Epoch 49 accuracy is 0.9730\n"
     ]
    },
    {
     "data": {
      "application/vnd.jupyter.widget-view+json": {
       "model_id": "0cd387e1e59e41a8afe9e9f495721a1f",
       "version_major": 2,
       "version_minor": 0
      },
      "text/plain": [
       "HBox(children=(IntProgress(value=0, description='[VALIDATION]', max=74, style=ProgressStyle(description_width=…"
      ]
     },
     "metadata": {},
     "output_type": "display_data"
    },
    {
     "name": "stdout",
     "output_type": "stream",
     "text": [
      "[VALIDATION] Epoch 49 loss is 0.0180\n",
      "[VALIDATION] Epoch 49 accuracy is 0.9951\n",
      "\n",
      "Completed epoch 49!\n",
      "\n",
      "Starting epoch 50...\n"
     ]
    },
    {
     "data": {
      "application/vnd.jupyter.widget-view+json": {
       "model_id": "1c8375e6593f42b3be2d602c79a62266",
       "version_major": 2,
       "version_minor": 0
      },
      "text/plain": [
       "HBox(children=(IntProgress(value=0, description='[TRAINING]', max=42, style=ProgressStyle(description_width='i…"
      ]
     },
     "metadata": {},
     "output_type": "display_data"
    },
    {
     "name": "stdout",
     "output_type": "stream",
     "text": [
      "[TRAINING] Epoch 50 loss is 0.0805\n",
      "[TRAINING] Epoch 50 accuracy is 0.9735\n"
     ]
    },
    {
     "data": {
      "application/vnd.jupyter.widget-view+json": {
       "model_id": "7a1a37601c984b958b82d2fd367f4d2e",
       "version_major": 2,
       "version_minor": 0
      },
      "text/plain": [
       "HBox(children=(IntProgress(value=0, description='[VALIDATION]', max=74, style=ProgressStyle(description_width=…"
      ]
     },
     "metadata": {},
     "output_type": "display_data"
    },
    {
     "name": "stdout",
     "output_type": "stream",
     "text": [
      "[VALIDATION] Epoch 50 loss is 0.0209\n",
      "[VALIDATION] Epoch 50 accuracy is 0.9937\n",
      "\n",
      "Completed epoch 50!\n",
      "\n",
      "Starting epoch 51...\n"
     ]
    },
    {
     "data": {
      "application/vnd.jupyter.widget-view+json": {
       "model_id": "2afa029ef85442b3ad719b3440e04742",
       "version_major": 2,
       "version_minor": 0
      },
      "text/plain": [
       "HBox(children=(IntProgress(value=0, description='[TRAINING]', max=42, style=ProgressStyle(description_width='i…"
      ]
     },
     "metadata": {},
     "output_type": "display_data"
    },
    {
     "name": "stdout",
     "output_type": "stream",
     "text": [
      "[TRAINING] Epoch 51 loss is 0.0770\n",
      "[TRAINING] Epoch 51 accuracy is 0.9749\n"
     ]
    },
    {
     "data": {
      "application/vnd.jupyter.widget-view+json": {
       "model_id": "76604be20e704e509b82be02f2454b23",
       "version_major": 2,
       "version_minor": 0
      },
      "text/plain": [
       "HBox(children=(IntProgress(value=0, description='[VALIDATION]', max=74, style=ProgressStyle(description_width=…"
      ]
     },
     "metadata": {},
     "output_type": "display_data"
    },
    {
     "name": "stdout",
     "output_type": "stream",
     "text": [
      "[VALIDATION] Epoch 51 loss is 0.0193\n",
      "[VALIDATION] Epoch 51 accuracy is 0.9944\n",
      "\n",
      "Completed epoch 51!\n",
      "\n",
      "Starting epoch 52...\n"
     ]
    },
    {
     "data": {
      "application/vnd.jupyter.widget-view+json": {
       "model_id": "cba30f8cffec4c4abbf208c6a4e80e6f",
       "version_major": 2,
       "version_minor": 0
      },
      "text/plain": [
       "HBox(children=(IntProgress(value=0, description='[TRAINING]', max=42, style=ProgressStyle(description_width='i…"
      ]
     },
     "metadata": {},
     "output_type": "display_data"
    },
    {
     "name": "stdout",
     "output_type": "stream",
     "text": [
      "[TRAINING] Epoch 52 loss is 0.0732\n",
      "[TRAINING] Epoch 52 accuracy is 0.9765\n"
     ]
    },
    {
     "data": {
      "application/vnd.jupyter.widget-view+json": {
       "model_id": "2e63227df7074e8782ae4dafc43b16f6",
       "version_major": 2,
       "version_minor": 0
      },
      "text/plain": [
       "HBox(children=(IntProgress(value=0, description='[VALIDATION]', max=74, style=ProgressStyle(description_width=…"
      ]
     },
     "metadata": {},
     "output_type": "display_data"
    },
    {
     "name": "stdout",
     "output_type": "stream",
     "text": [
      "[VALIDATION] Epoch 52 loss is 0.0169\n",
      "[VALIDATION] Epoch 52 accuracy is 0.9952\n",
      "\n",
      "Completed epoch 52!\n",
      "\n",
      "Starting epoch 53...\n"
     ]
    },
    {
     "data": {
      "application/vnd.jupyter.widget-view+json": {
       "model_id": "4fb1d4ef6b794461b7b570fcd0e2f63f",
       "version_major": 2,
       "version_minor": 0
      },
      "text/plain": [
       "HBox(children=(IntProgress(value=0, description='[TRAINING]', max=42, style=ProgressStyle(description_width='i…"
      ]
     },
     "metadata": {},
     "output_type": "display_data"
    },
    {
     "name": "stdout",
     "output_type": "stream",
     "text": [
      "[TRAINING] Epoch 53 loss is 0.0703\n",
      "[TRAINING] Epoch 53 accuracy is 0.9774\n"
     ]
    },
    {
     "data": {
      "application/vnd.jupyter.widget-view+json": {
       "model_id": "fbe1884afc8a423d8b0afaa5f1463ceb",
       "version_major": 2,
       "version_minor": 0
      },
      "text/plain": [
       "HBox(children=(IntProgress(value=0, description='[VALIDATION]', max=74, style=ProgressStyle(description_width=…"
      ]
     },
     "metadata": {},
     "output_type": "display_data"
    },
    {
     "name": "stdout",
     "output_type": "stream",
     "text": [
      "[VALIDATION] Epoch 53 loss is 0.0153\n",
      "[VALIDATION] Epoch 53 accuracy is 0.9958\n",
      "\n",
      "Completed epoch 53!\n",
      "\n",
      "Starting epoch 54...\n"
     ]
    },
    {
     "data": {
      "application/vnd.jupyter.widget-view+json": {
       "model_id": "8fb88f9778e649cdba23016b38fc9d60",
       "version_major": 2,
       "version_minor": 0
      },
      "text/plain": [
       "HBox(children=(IntProgress(value=0, description='[TRAINING]', max=42, style=ProgressStyle(description_width='i…"
      ]
     },
     "metadata": {},
     "output_type": "display_data"
    },
    {
     "name": "stdout",
     "output_type": "stream",
     "text": [
      "[TRAINING] Epoch 54 loss is 0.0704\n",
      "[TRAINING] Epoch 54 accuracy is 0.9770\n"
     ]
    },
    {
     "data": {
      "application/vnd.jupyter.widget-view+json": {
       "model_id": "a7434df7330e4442a15b94988158ece0",
       "version_major": 2,
       "version_minor": 0
      },
      "text/plain": [
       "HBox(children=(IntProgress(value=0, description='[VALIDATION]', max=74, style=ProgressStyle(description_width=…"
      ]
     },
     "metadata": {},
     "output_type": "display_data"
    },
    {
     "name": "stdout",
     "output_type": "stream",
     "text": [
      "[VALIDATION] Epoch 54 loss is 0.0156\n",
      "[VALIDATION] Epoch 54 accuracy is 0.9956\n",
      "\n",
      "Completed epoch 54!\n",
      "\n",
      "Starting epoch 55...\n"
     ]
    },
    {
     "data": {
      "application/vnd.jupyter.widget-view+json": {
       "model_id": "e09026dea6184d2fb151bd04639217e1",
       "version_major": 2,
       "version_minor": 0
      },
      "text/plain": [
       "HBox(children=(IntProgress(value=0, description='[TRAINING]', max=42, style=ProgressStyle(description_width='i…"
      ]
     },
     "metadata": {},
     "output_type": "display_data"
    },
    {
     "name": "stdout",
     "output_type": "stream",
     "text": [
      "[TRAINING] Epoch 55 loss is 0.0674\n",
      "[TRAINING] Epoch 55 accuracy is 0.9780\n"
     ]
    },
    {
     "data": {
      "application/vnd.jupyter.widget-view+json": {
       "model_id": "1700728860844abd80f4608e5fc49057",
       "version_major": 2,
       "version_minor": 0
      },
      "text/plain": [
       "HBox(children=(IntProgress(value=0, description='[VALIDATION]', max=74, style=ProgressStyle(description_width=…"
      ]
     },
     "metadata": {},
     "output_type": "display_data"
    },
    {
     "name": "stdout",
     "output_type": "stream",
     "text": [
      "[VALIDATION] Epoch 55 loss is 0.0166\n",
      "[VALIDATION] Epoch 55 accuracy is 0.9956\n",
      "\n",
      "Completed epoch 55!\n",
      "\n",
      "Starting epoch 56...\n"
     ]
    },
    {
     "data": {
      "application/vnd.jupyter.widget-view+json": {
       "model_id": "e30ccf1ef85743f099b7764f589edb4a",
       "version_major": 2,
       "version_minor": 0
      },
      "text/plain": [
       "HBox(children=(IntProgress(value=0, description='[TRAINING]', max=42, style=ProgressStyle(description_width='i…"
      ]
     },
     "metadata": {},
     "output_type": "display_data"
    },
    {
     "name": "stdout",
     "output_type": "stream",
     "text": [
      "[TRAINING] Epoch 56 loss is 0.0676\n",
      "[TRAINING] Epoch 56 accuracy is 0.9780\n"
     ]
    },
    {
     "data": {
      "application/vnd.jupyter.widget-view+json": {
       "model_id": "0dff0c93109b4189a1276834775a9fbe",
       "version_major": 2,
       "version_minor": 0
      },
      "text/plain": [
       "HBox(children=(IntProgress(value=0, description='[VALIDATION]', max=74, style=ProgressStyle(description_width=…"
      ]
     },
     "metadata": {},
     "output_type": "display_data"
    },
    {
     "name": "stdout",
     "output_type": "stream",
     "text": [
      "[VALIDATION] Epoch 56 loss is 0.0188\n",
      "[VALIDATION] Epoch 56 accuracy is 0.9947\n",
      "\n",
      "Completed epoch 56!\n",
      "\n",
      "Starting epoch 57...\n"
     ]
    },
    {
     "data": {
      "application/vnd.jupyter.widget-view+json": {
       "model_id": "362e3bc38abe4450bed09ac07fd9b0b4",
       "version_major": 2,
       "version_minor": 0
      },
      "text/plain": [
       "HBox(children=(IntProgress(value=0, description='[TRAINING]', max=42, style=ProgressStyle(description_width='i…"
      ]
     },
     "metadata": {},
     "output_type": "display_data"
    },
    {
     "name": "stdout",
     "output_type": "stream",
     "text": [
      "[TRAINING] Epoch 57 loss is 0.0670\n",
      "[TRAINING] Epoch 57 accuracy is 0.9777\n"
     ]
    },
    {
     "data": {
      "application/vnd.jupyter.widget-view+json": {
       "model_id": "3ca5d567e1bd407a833182f68c89e670",
       "version_major": 2,
       "version_minor": 0
      },
      "text/plain": [
       "HBox(children=(IntProgress(value=0, description='[VALIDATION]', max=74, style=ProgressStyle(description_width=…"
      ]
     },
     "metadata": {},
     "output_type": "display_data"
    },
    {
     "name": "stdout",
     "output_type": "stream",
     "text": [
      "[VALIDATION] Epoch 57 loss is 0.0164\n",
      "[VALIDATION] Epoch 57 accuracy is 0.9949\n",
      "\n",
      "Completed epoch 57!\n",
      "\n",
      "Starting epoch 58...\n"
     ]
    },
    {
     "data": {
      "application/vnd.jupyter.widget-view+json": {
       "model_id": "96cf230121154e6baedbe63fc3b97c6b",
       "version_major": 2,
       "version_minor": 0
      },
      "text/plain": [
       "HBox(children=(IntProgress(value=0, description='[TRAINING]', max=42, style=ProgressStyle(description_width='i…"
      ]
     },
     "metadata": {},
     "output_type": "display_data"
    },
    {
     "name": "stdout",
     "output_type": "stream",
     "text": [
      "[TRAINING] Epoch 58 loss is 0.0648\n",
      "[TRAINING] Epoch 58 accuracy is 0.9787\n"
     ]
    },
    {
     "data": {
      "application/vnd.jupyter.widget-view+json": {
       "model_id": "c57c09cd892543198f2b4099e8927000",
       "version_major": 2,
       "version_minor": 0
      },
      "text/plain": [
       "HBox(children=(IntProgress(value=0, description='[VALIDATION]', max=74, style=ProgressStyle(description_width=…"
      ]
     },
     "metadata": {},
     "output_type": "display_data"
    },
    {
     "name": "stdout",
     "output_type": "stream",
     "text": [
      "[VALIDATION] Epoch 58 loss is 0.0163\n",
      "[VALIDATION] Epoch 58 accuracy is 0.9950\n",
      "\n",
      "Completed epoch 58!\n",
      "\n",
      "Starting epoch 59...\n"
     ]
    },
    {
     "data": {
      "application/vnd.jupyter.widget-view+json": {
       "model_id": "0754ff91d11846188a4680436771bd87",
       "version_major": 2,
       "version_minor": 0
      },
      "text/plain": [
       "HBox(children=(IntProgress(value=0, description='[TRAINING]', max=42, style=ProgressStyle(description_width='i…"
      ]
     },
     "metadata": {},
     "output_type": "display_data"
    },
    {
     "name": "stdout",
     "output_type": "stream",
     "text": [
      "[TRAINING] Epoch 59 loss is 0.0638\n",
      "[TRAINING] Epoch 59 accuracy is 0.9794\n"
     ]
    },
    {
     "data": {
      "application/vnd.jupyter.widget-view+json": {
       "model_id": "88afa4fb8db341ce8a11d48dcafd919a",
       "version_major": 2,
       "version_minor": 0
      },
      "text/plain": [
       "HBox(children=(IntProgress(value=0, description='[VALIDATION]', max=74, style=ProgressStyle(description_width=…"
      ]
     },
     "metadata": {},
     "output_type": "display_data"
    },
    {
     "name": "stdout",
     "output_type": "stream",
     "text": [
      "[VALIDATION] Epoch 59 loss is 0.0154\n",
      "[VALIDATION] Epoch 59 accuracy is 0.9953\n",
      "\n",
      "Completed epoch 59!\n",
      "\n",
      "Starting epoch 60...\n"
     ]
    },
    {
     "data": {
      "application/vnd.jupyter.widget-view+json": {
       "model_id": "c96f40c14b184639a68db2e035451e8f",
       "version_major": 2,
       "version_minor": 0
      },
      "text/plain": [
       "HBox(children=(IntProgress(value=0, description='[TRAINING]', max=42, style=ProgressStyle(description_width='i…"
      ]
     },
     "metadata": {},
     "output_type": "display_data"
    },
    {
     "name": "stdout",
     "output_type": "stream",
     "text": [
      "[TRAINING] Epoch 60 loss is 0.0608\n",
      "[TRAINING] Epoch 60 accuracy is 0.9801\n"
     ]
    },
    {
     "data": {
      "application/vnd.jupyter.widget-view+json": {
       "model_id": "ed8145009caa4dee8d525d9bc2179623",
       "version_major": 2,
       "version_minor": 0
      },
      "text/plain": [
       "HBox(children=(IntProgress(value=0, description='[VALIDATION]', max=74, style=ProgressStyle(description_width=…"
      ]
     },
     "metadata": {},
     "output_type": "display_data"
    },
    {
     "name": "stdout",
     "output_type": "stream",
     "text": [
      "[VALIDATION] Epoch 60 loss is 0.0154\n",
      "[VALIDATION] Epoch 60 accuracy is 0.9954\n",
      "\n",
      "Completed epoch 60!\n",
      "\n",
      "Starting epoch 61...\n"
     ]
    },
    {
     "data": {
      "application/vnd.jupyter.widget-view+json": {
       "model_id": "026c6f3f4932404c83c90f7960cbf4f7",
       "version_major": 2,
       "version_minor": 0
      },
      "text/plain": [
       "HBox(children=(IntProgress(value=0, description='[TRAINING]', max=42, style=ProgressStyle(description_width='i…"
      ]
     },
     "metadata": {},
     "output_type": "display_data"
    },
    {
     "name": "stdout",
     "output_type": "stream",
     "text": [
      "[TRAINING] Epoch 61 loss is 0.0597\n",
      "[TRAINING] Epoch 61 accuracy is 0.9806\n"
     ]
    },
    {
     "data": {
      "application/vnd.jupyter.widget-view+json": {
       "model_id": "f4faef95f1384d10af56d0e85433ed0f",
       "version_major": 2,
       "version_minor": 0
      },
      "text/plain": [
       "HBox(children=(IntProgress(value=0, description='[VALIDATION]', max=74, style=ProgressStyle(description_width=…"
      ]
     },
     "metadata": {},
     "output_type": "display_data"
    },
    {
     "name": "stdout",
     "output_type": "stream",
     "text": [
      "[VALIDATION] Epoch 61 loss is 0.0136\n",
      "[VALIDATION] Epoch 61 accuracy is 0.9959\n",
      "\n",
      "Completed epoch 61!\n",
      "\n",
      "Starting epoch 62...\n"
     ]
    },
    {
     "data": {
      "application/vnd.jupyter.widget-view+json": {
       "model_id": "e29198ad57cc4ca88ab03d1adcb0d065",
       "version_major": 2,
       "version_minor": 0
      },
      "text/plain": [
       "HBox(children=(IntProgress(value=0, description='[TRAINING]', max=42, style=ProgressStyle(description_width='i…"
      ]
     },
     "metadata": {},
     "output_type": "display_data"
    },
    {
     "name": "stdout",
     "output_type": "stream",
     "text": [
      "[TRAINING] Epoch 62 loss is 0.0586\n",
      "[TRAINING] Epoch 62 accuracy is 0.9806\n"
     ]
    },
    {
     "data": {
      "application/vnd.jupyter.widget-view+json": {
       "model_id": "de92aef9240e426e8b5520535fc60034",
       "version_major": 2,
       "version_minor": 0
      },
      "text/plain": [
       "HBox(children=(IntProgress(value=0, description='[VALIDATION]', max=74, style=ProgressStyle(description_width=…"
      ]
     },
     "metadata": {},
     "output_type": "display_data"
    },
    {
     "name": "stdout",
     "output_type": "stream",
     "text": [
      "[VALIDATION] Epoch 62 loss is 0.0139\n",
      "[VALIDATION] Epoch 62 accuracy is 0.9961\n",
      "\n",
      "Completed epoch 62!\n",
      "\n",
      "Starting epoch 63...\n"
     ]
    },
    {
     "data": {
      "application/vnd.jupyter.widget-view+json": {
       "model_id": "57c3d34040364a0eb2a8c8e7f9015a1c",
       "version_major": 2,
       "version_minor": 0
      },
      "text/plain": [
       "HBox(children=(IntProgress(value=0, description='[TRAINING]', max=42, style=ProgressStyle(description_width='i…"
      ]
     },
     "metadata": {},
     "output_type": "display_data"
    },
    {
     "name": "stdout",
     "output_type": "stream",
     "text": [
      "[TRAINING] Epoch 63 loss is 0.0580\n",
      "[TRAINING] Epoch 63 accuracy is 0.9813\n"
     ]
    },
    {
     "data": {
      "application/vnd.jupyter.widget-view+json": {
       "model_id": "d852b2915eda46e0b62b7a32554edc9b",
       "version_major": 2,
       "version_minor": 0
      },
      "text/plain": [
       "HBox(children=(IntProgress(value=0, description='[VALIDATION]', max=74, style=ProgressStyle(description_width=…"
      ]
     },
     "metadata": {},
     "output_type": "display_data"
    },
    {
     "name": "stdout",
     "output_type": "stream",
     "text": [
      "[VALIDATION] Epoch 63 loss is 0.0153\n",
      "[VALIDATION] Epoch 63 accuracy is 0.9957\n",
      "\n",
      "Completed epoch 63!\n",
      "\n",
      "Starting epoch 64...\n"
     ]
    },
    {
     "data": {
      "application/vnd.jupyter.widget-view+json": {
       "model_id": "b56bb222784844f2aa454eafd795c1bc",
       "version_major": 2,
       "version_minor": 0
      },
      "text/plain": [
       "HBox(children=(IntProgress(value=0, description='[TRAINING]', max=42, style=ProgressStyle(description_width='i…"
      ]
     },
     "metadata": {},
     "output_type": "display_data"
    },
    {
     "name": "stdout",
     "output_type": "stream",
     "text": [
      "[TRAINING] Epoch 64 loss is 0.0578\n",
      "[TRAINING] Epoch 64 accuracy is 0.9816\n"
     ]
    },
    {
     "data": {
      "application/vnd.jupyter.widget-view+json": {
       "model_id": "5cdcd9ab76154d63bb182028b353c123",
       "version_major": 2,
       "version_minor": 0
      },
      "text/plain": [
       "HBox(children=(IntProgress(value=0, description='[VALIDATION]', max=74, style=ProgressStyle(description_width=…"
      ]
     },
     "metadata": {},
     "output_type": "display_data"
    },
    {
     "name": "stdout",
     "output_type": "stream",
     "text": [
      "[VALIDATION] Epoch 64 loss is 0.0149\n",
      "[VALIDATION] Epoch 64 accuracy is 0.9954\n",
      "\n",
      "Completed epoch 64!\n",
      "\n",
      "Starting epoch 65...\n"
     ]
    },
    {
     "data": {
      "application/vnd.jupyter.widget-view+json": {
       "model_id": "c30eb78f9f104fafad9a50f71f415102",
       "version_major": 2,
       "version_minor": 0
      },
      "text/plain": [
       "HBox(children=(IntProgress(value=0, description='[TRAINING]', max=42, style=ProgressStyle(description_width='i…"
      ]
     },
     "metadata": {},
     "output_type": "display_data"
    },
    {
     "name": "stdout",
     "output_type": "stream",
     "text": [
      "[TRAINING] Epoch 65 loss is 0.0562\n",
      "[TRAINING] Epoch 65 accuracy is 0.9813\n"
     ]
    },
    {
     "data": {
      "application/vnd.jupyter.widget-view+json": {
       "model_id": "b210bafec1044ba49d49931c247081f5",
       "version_major": 2,
       "version_minor": 0
      },
      "text/plain": [
       "HBox(children=(IntProgress(value=0, description='[VALIDATION]', max=74, style=ProgressStyle(description_width=…"
      ]
     },
     "metadata": {},
     "output_type": "display_data"
    },
    {
     "name": "stdout",
     "output_type": "stream",
     "text": [
      "[VALIDATION] Epoch 65 loss is 0.0141\n",
      "[VALIDATION] Epoch 65 accuracy is 0.9958\n",
      "\n",
      "Completed epoch 65!\n",
      "\n",
      "Starting epoch 66...\n"
     ]
    },
    {
     "data": {
      "application/vnd.jupyter.widget-view+json": {
       "model_id": "d8ac08ffadb24022b3b4c09c935c44c9",
       "version_major": 2,
       "version_minor": 0
      },
      "text/plain": [
       "HBox(children=(IntProgress(value=0, description='[TRAINING]', max=42, style=ProgressStyle(description_width='i…"
      ]
     },
     "metadata": {},
     "output_type": "display_data"
    },
    {
     "name": "stdout",
     "output_type": "stream",
     "text": [
      "[TRAINING] Epoch 66 loss is 0.0543\n",
      "[TRAINING] Epoch 66 accuracy is 0.9823\n"
     ]
    },
    {
     "data": {
      "application/vnd.jupyter.widget-view+json": {
       "model_id": "b627402a0d864435a469c751a8a25bf3",
       "version_major": 2,
       "version_minor": 0
      },
      "text/plain": [
       "HBox(children=(IntProgress(value=0, description='[VALIDATION]', max=74, style=ProgressStyle(description_width=…"
      ]
     },
     "metadata": {},
     "output_type": "display_data"
    },
    {
     "name": "stdout",
     "output_type": "stream",
     "text": [
      "[VALIDATION] Epoch 66 loss is 0.0128\n",
      "[VALIDATION] Epoch 66 accuracy is 0.9964\n",
      "\n",
      "Completed epoch 66!\n",
      "\n",
      "Starting epoch 67...\n"
     ]
    },
    {
     "data": {
      "application/vnd.jupyter.widget-view+json": {
       "model_id": "66133530be23477f96ac5667e47b6d6e",
       "version_major": 2,
       "version_minor": 0
      },
      "text/plain": [
       "HBox(children=(IntProgress(value=0, description='[TRAINING]', max=42, style=ProgressStyle(description_width='i…"
      ]
     },
     "metadata": {},
     "output_type": "display_data"
    },
    {
     "name": "stdout",
     "output_type": "stream",
     "text": [
      "[TRAINING] Epoch 67 loss is 0.0516\n",
      "[TRAINING] Epoch 67 accuracy is 0.9833\n"
     ]
    },
    {
     "data": {
      "application/vnd.jupyter.widget-view+json": {
       "model_id": "7b03506edabb4f70bd5b133ca2f8e31c",
       "version_major": 2,
       "version_minor": 0
      },
      "text/plain": [
       "HBox(children=(IntProgress(value=0, description='[VALIDATION]', max=74, style=ProgressStyle(description_width=…"
      ]
     },
     "metadata": {},
     "output_type": "display_data"
    },
    {
     "name": "stdout",
     "output_type": "stream",
     "text": [
      "[VALIDATION] Epoch 67 loss is 0.0124\n",
      "[VALIDATION] Epoch 67 accuracy is 0.9963\n",
      "\n",
      "Completed epoch 67!\n",
      "\n",
      "Starting epoch 68...\n"
     ]
    },
    {
     "data": {
      "application/vnd.jupyter.widget-view+json": {
       "model_id": "969e427edb634231823779b3eb7258d0",
       "version_major": 2,
       "version_minor": 0
      },
      "text/plain": [
       "HBox(children=(IntProgress(value=0, description='[TRAINING]', max=42, style=ProgressStyle(description_width='i…"
      ]
     },
     "metadata": {},
     "output_type": "display_data"
    },
    {
     "name": "stdout",
     "output_type": "stream",
     "text": [
      "[TRAINING] Epoch 68 loss is 0.0507\n",
      "[TRAINING] Epoch 68 accuracy is 0.9839\n"
     ]
    },
    {
     "data": {
      "application/vnd.jupyter.widget-view+json": {
       "model_id": "e83ed845126d4f3ab74bec08e72def8a",
       "version_major": 2,
       "version_minor": 0
      },
      "text/plain": [
       "HBox(children=(IntProgress(value=0, description='[VALIDATION]', max=74, style=ProgressStyle(description_width=…"
      ]
     },
     "metadata": {},
     "output_type": "display_data"
    },
    {
     "name": "stdout",
     "output_type": "stream",
     "text": [
      "[VALIDATION] Epoch 68 loss is 0.0132\n",
      "[VALIDATION] Epoch 68 accuracy is 0.9963\n",
      "\n",
      "Completed epoch 68!\n",
      "\n",
      "Starting epoch 69...\n"
     ]
    },
    {
     "data": {
      "application/vnd.jupyter.widget-view+json": {
       "model_id": "a5adde4c324a4e8cb45c17131188324e",
       "version_major": 2,
       "version_minor": 0
      },
      "text/plain": [
       "HBox(children=(IntProgress(value=0, description='[TRAINING]', max=42, style=ProgressStyle(description_width='i…"
      ]
     },
     "metadata": {},
     "output_type": "display_data"
    },
    {
     "name": "stdout",
     "output_type": "stream",
     "text": [
      "[TRAINING] Epoch 69 loss is 0.0493\n",
      "[TRAINING] Epoch 69 accuracy is 0.9838\n"
     ]
    },
    {
     "data": {
      "application/vnd.jupyter.widget-view+json": {
       "model_id": "4b4770df856e4dee8bbb69167d293807",
       "version_major": 2,
       "version_minor": 0
      },
      "text/plain": [
       "HBox(children=(IntProgress(value=0, description='[VALIDATION]', max=74, style=ProgressStyle(description_width=…"
      ]
     },
     "metadata": {},
     "output_type": "display_data"
    },
    {
     "name": "stdout",
     "output_type": "stream",
     "text": [
      "[VALIDATION] Epoch 69 loss is 0.0137\n",
      "[VALIDATION] Epoch 69 accuracy is 0.9963\n",
      "\n",
      "Completed epoch 69!\n",
      "\n",
      "Starting epoch 70...\n"
     ]
    },
    {
     "data": {
      "application/vnd.jupyter.widget-view+json": {
       "model_id": "5aaa0596da8343ab9efacb66f0f822a8",
       "version_major": 2,
       "version_minor": 0
      },
      "text/plain": [
       "HBox(children=(IntProgress(value=0, description='[TRAINING]', max=42, style=ProgressStyle(description_width='i…"
      ]
     },
     "metadata": {},
     "output_type": "display_data"
    },
    {
     "name": "stdout",
     "output_type": "stream",
     "text": [
      "[TRAINING] Epoch 70 loss is 0.0493\n",
      "[TRAINING] Epoch 70 accuracy is 0.9837\n"
     ]
    },
    {
     "data": {
      "application/vnd.jupyter.widget-view+json": {
       "model_id": "01b4454783b74eb4aa42024ccfbaaa1e",
       "version_major": 2,
       "version_minor": 0
      },
      "text/plain": [
       "HBox(children=(IntProgress(value=0, description='[VALIDATION]', max=74, style=ProgressStyle(description_width=…"
      ]
     },
     "metadata": {},
     "output_type": "display_data"
    },
    {
     "name": "stdout",
     "output_type": "stream",
     "text": [
      "[VALIDATION] Epoch 70 loss is 0.0126\n",
      "[VALIDATION] Epoch 70 accuracy is 0.9968\n",
      "\n",
      "Completed epoch 70!\n",
      "\n",
      "Starting epoch 71...\n"
     ]
    },
    {
     "data": {
      "application/vnd.jupyter.widget-view+json": {
       "model_id": "94405e58c22044089db40e5e5301e178",
       "version_major": 2,
       "version_minor": 0
      },
      "text/plain": [
       "HBox(children=(IntProgress(value=0, description='[TRAINING]', max=42, style=ProgressStyle(description_width='i…"
      ]
     },
     "metadata": {},
     "output_type": "display_data"
    },
    {
     "name": "stdout",
     "output_type": "stream",
     "text": [
      "[TRAINING] Epoch 71 loss is 0.0485\n",
      "[TRAINING] Epoch 71 accuracy is 0.9843\n"
     ]
    },
    {
     "data": {
      "application/vnd.jupyter.widget-view+json": {
       "model_id": "f76ad58a3611455d98ba93cf0b8c60e8",
       "version_major": 2,
       "version_minor": 0
      },
      "text/plain": [
       "HBox(children=(IntProgress(value=0, description='[VALIDATION]', max=74, style=ProgressStyle(description_width=…"
      ]
     },
     "metadata": {},
     "output_type": "display_data"
    },
    {
     "name": "stdout",
     "output_type": "stream",
     "text": [
      "[VALIDATION] Epoch 71 loss is 0.0129\n",
      "[VALIDATION] Epoch 71 accuracy is 0.9960\n",
      "\n",
      "Completed epoch 71!\n",
      "\n",
      "Starting epoch 72...\n"
     ]
    },
    {
     "data": {
      "application/vnd.jupyter.widget-view+json": {
       "model_id": "e39ec935aadf48db89b96a4409aaad88",
       "version_major": 2,
       "version_minor": 0
      },
      "text/plain": [
       "HBox(children=(IntProgress(value=0, description='[TRAINING]', max=42, style=ProgressStyle(description_width='i…"
      ]
     },
     "metadata": {},
     "output_type": "display_data"
    },
    {
     "name": "stdout",
     "output_type": "stream",
     "text": [
      "[TRAINING] Epoch 72 loss is 0.0485\n",
      "[TRAINING] Epoch 72 accuracy is 0.9846\n"
     ]
    },
    {
     "data": {
      "application/vnd.jupyter.widget-view+json": {
       "model_id": "0fda6b37c71049e584f118a4d54c2b0a",
       "version_major": 2,
       "version_minor": 0
      },
      "text/plain": [
       "HBox(children=(IntProgress(value=0, description='[VALIDATION]', max=74, style=ProgressStyle(description_width=…"
      ]
     },
     "metadata": {},
     "output_type": "display_data"
    },
    {
     "name": "stdout",
     "output_type": "stream",
     "text": [
      "[VALIDATION] Epoch 72 loss is 0.0163\n",
      "[VALIDATION] Epoch 72 accuracy is 0.9950\n",
      "\n",
      "Completed epoch 72!\n",
      "\n",
      "Starting epoch 73...\n"
     ]
    },
    {
     "data": {
      "application/vnd.jupyter.widget-view+json": {
       "model_id": "732e09150aff4b87a4c26ef3d1412d40",
       "version_major": 2,
       "version_minor": 0
      },
      "text/plain": [
       "HBox(children=(IntProgress(value=0, description='[TRAINING]', max=42, style=ProgressStyle(description_width='i…"
      ]
     },
     "metadata": {},
     "output_type": "display_data"
    },
    {
     "name": "stdout",
     "output_type": "stream",
     "text": [
      "[TRAINING] Epoch 73 loss is 0.0494\n",
      "[TRAINING] Epoch 73 accuracy is 0.9844\n"
     ]
    },
    {
     "data": {
      "application/vnd.jupyter.widget-view+json": {
       "model_id": "f326eaa487b9444d958e91f69dfe3107",
       "version_major": 2,
       "version_minor": 0
      },
      "text/plain": [
       "HBox(children=(IntProgress(value=0, description='[VALIDATION]', max=74, style=ProgressStyle(description_width=…"
      ]
     },
     "metadata": {},
     "output_type": "display_data"
    },
    {
     "name": "stdout",
     "output_type": "stream",
     "text": [
      "[VALIDATION] Epoch 73 loss is 0.0121\n",
      "[VALIDATION] Epoch 73 accuracy is 0.9967\n",
      "\n",
      "Completed epoch 73!\n",
      "\n",
      "Starting epoch 74...\n"
     ]
    },
    {
     "data": {
      "application/vnd.jupyter.widget-view+json": {
       "model_id": "3721ce4a787c4b3bb8ff770cddb98f9c",
       "version_major": 2,
       "version_minor": 0
      },
      "text/plain": [
       "HBox(children=(IntProgress(value=0, description='[TRAINING]', max=42, style=ProgressStyle(description_width='i…"
      ]
     },
     "metadata": {},
     "output_type": "display_data"
    },
    {
     "name": "stdout",
     "output_type": "stream",
     "text": [
      "[TRAINING] Epoch 74 loss is 0.0465\n",
      "[TRAINING] Epoch 74 accuracy is 0.9848\n"
     ]
    },
    {
     "data": {
      "application/vnd.jupyter.widget-view+json": {
       "model_id": "4bd8e8c883a9405e984cd4a0f178a13d",
       "version_major": 2,
       "version_minor": 0
      },
      "text/plain": [
       "HBox(children=(IntProgress(value=0, description='[VALIDATION]', max=74, style=ProgressStyle(description_width=…"
      ]
     },
     "metadata": {},
     "output_type": "display_data"
    },
    {
     "name": "stdout",
     "output_type": "stream",
     "text": [
      "[VALIDATION] Epoch 74 loss is 0.0128\n",
      "[VALIDATION] Epoch 74 accuracy is 0.9963\n",
      "\n",
      "Completed epoch 74!\n",
      "\n",
      "Starting epoch 75...\n"
     ]
    },
    {
     "data": {
      "application/vnd.jupyter.widget-view+json": {
       "model_id": "a3503980060c4349862dfa639e1d09dc",
       "version_major": 2,
       "version_minor": 0
      },
      "text/plain": [
       "HBox(children=(IntProgress(value=0, description='[TRAINING]', max=42, style=ProgressStyle(description_width='i…"
      ]
     },
     "metadata": {},
     "output_type": "display_data"
    },
    {
     "name": "stdout",
     "output_type": "stream",
     "text": [
      "[TRAINING] Epoch 75 loss is 0.0449\n",
      "[TRAINING] Epoch 75 accuracy is 0.9858\n"
     ]
    },
    {
     "data": {
      "application/vnd.jupyter.widget-view+json": {
       "model_id": "eeccb960910e46d1a40d384c393fa7ab",
       "version_major": 2,
       "version_minor": 0
      },
      "text/plain": [
       "HBox(children=(IntProgress(value=0, description='[VALIDATION]', max=74, style=ProgressStyle(description_width=…"
      ]
     },
     "metadata": {},
     "output_type": "display_data"
    },
    {
     "name": "stdout",
     "output_type": "stream",
     "text": [
      "[VALIDATION] Epoch 75 loss is 0.0119\n",
      "[VALIDATION] Epoch 75 accuracy is 0.9965\n",
      "\n",
      "Completed epoch 75!\n",
      "\n",
      "Starting epoch 76...\n"
     ]
    },
    {
     "data": {
      "application/vnd.jupyter.widget-view+json": {
       "model_id": "0710d40b0dbd440dadb5eff59972062a",
       "version_major": 2,
       "version_minor": 0
      },
      "text/plain": [
       "HBox(children=(IntProgress(value=0, description='[TRAINING]', max=42, style=ProgressStyle(description_width='i…"
      ]
     },
     "metadata": {},
     "output_type": "display_data"
    },
    {
     "name": "stdout",
     "output_type": "stream",
     "text": [
      "[TRAINING] Epoch 76 loss is 0.0441\n",
      "[TRAINING] Epoch 76 accuracy is 0.9854\n"
     ]
    },
    {
     "data": {
      "application/vnd.jupyter.widget-view+json": {
       "model_id": "7a7f3ed1e9f44cf693fa458b6cfbe52c",
       "version_major": 2,
       "version_minor": 0
      },
      "text/plain": [
       "HBox(children=(IntProgress(value=0, description='[VALIDATION]', max=74, style=ProgressStyle(description_width=…"
      ]
     },
     "metadata": {},
     "output_type": "display_data"
    },
    {
     "name": "stdout",
     "output_type": "stream",
     "text": [
      "[VALIDATION] Epoch 76 loss is 0.0119\n",
      "[VALIDATION] Epoch 76 accuracy is 0.9966\n",
      "\n",
      "Completed epoch 76!\n",
      "\n",
      "Starting epoch 77...\n"
     ]
    },
    {
     "data": {
      "application/vnd.jupyter.widget-view+json": {
       "model_id": "46b7da1014c34f258eb8ff1b068be6f6",
       "version_major": 2,
       "version_minor": 0
      },
      "text/plain": [
       "HBox(children=(IntProgress(value=0, description='[TRAINING]', max=42, style=ProgressStyle(description_width='i…"
      ]
     },
     "metadata": {},
     "output_type": "display_data"
    },
    {
     "name": "stdout",
     "output_type": "stream",
     "text": [
      "[TRAINING] Epoch 77 loss is 0.0425\n",
      "[TRAINING] Epoch 77 accuracy is 0.9862\n"
     ]
    },
    {
     "data": {
      "application/vnd.jupyter.widget-view+json": {
       "model_id": "65c8567351a94940a5a30aaf2cd8980a",
       "version_major": 2,
       "version_minor": 0
      },
      "text/plain": [
       "HBox(children=(IntProgress(value=0, description='[VALIDATION]', max=74, style=ProgressStyle(description_width=…"
      ]
     },
     "metadata": {},
     "output_type": "display_data"
    },
    {
     "name": "stdout",
     "output_type": "stream",
     "text": [
      "[VALIDATION] Epoch 77 loss is 0.0117\n",
      "[VALIDATION] Epoch 77 accuracy is 0.9969\n",
      "\n",
      "Completed epoch 77!\n",
      "\n",
      "Starting epoch 78...\n"
     ]
    },
    {
     "data": {
      "application/vnd.jupyter.widget-view+json": {
       "model_id": "8256248d594241d5944430e2d17595e2",
       "version_major": 2,
       "version_minor": 0
      },
      "text/plain": [
       "HBox(children=(IntProgress(value=0, description='[TRAINING]', max=42, style=ProgressStyle(description_width='i…"
      ]
     },
     "metadata": {},
     "output_type": "display_data"
    },
    {
     "name": "stdout",
     "output_type": "stream",
     "text": [
      "[TRAINING] Epoch 78 loss is 0.0409\n",
      "[TRAINING] Epoch 78 accuracy is 0.9866\n"
     ]
    },
    {
     "data": {
      "application/vnd.jupyter.widget-view+json": {
       "model_id": "69c4966c56454494a3736e2963327577",
       "version_major": 2,
       "version_minor": 0
      },
      "text/plain": [
       "HBox(children=(IntProgress(value=0, description='[VALIDATION]', max=74, style=ProgressStyle(description_width=…"
      ]
     },
     "metadata": {},
     "output_type": "display_data"
    },
    {
     "name": "stdout",
     "output_type": "stream",
     "text": [
      "[VALIDATION] Epoch 78 loss is 0.0116\n",
      "[VALIDATION] Epoch 78 accuracy is 0.9968\n",
      "\n",
      "Completed epoch 78!\n",
      "\n",
      "Starting epoch 79...\n"
     ]
    },
    {
     "data": {
      "application/vnd.jupyter.widget-view+json": {
       "model_id": "bb99bfe9779148e9b137cc317c89d2f8",
       "version_major": 2,
       "version_minor": 0
      },
      "text/plain": [
       "HBox(children=(IntProgress(value=0, description='[TRAINING]', max=42, style=ProgressStyle(description_width='i…"
      ]
     },
     "metadata": {},
     "output_type": "display_data"
    },
    {
     "name": "stdout",
     "output_type": "stream",
     "text": [
      "[TRAINING] Epoch 79 loss is 0.0433\n",
      "[TRAINING] Epoch 79 accuracy is 0.9860\n"
     ]
    },
    {
     "data": {
      "application/vnd.jupyter.widget-view+json": {
       "model_id": "59fc6517dad142e3ac306dac1e5ec4b9",
       "version_major": 2,
       "version_minor": 0
      },
      "text/plain": [
       "HBox(children=(IntProgress(value=0, description='[VALIDATION]', max=74, style=ProgressStyle(description_width=…"
      ]
     },
     "metadata": {},
     "output_type": "display_data"
    },
    {
     "name": "stdout",
     "output_type": "stream",
     "text": [
      "[VALIDATION] Epoch 79 loss is 0.0110\n",
      "[VALIDATION] Epoch 79 accuracy is 0.9968\n",
      "\n",
      "Completed epoch 79!\n",
      "\n",
      "Starting epoch 80...\n"
     ]
    },
    {
     "data": {
      "application/vnd.jupyter.widget-view+json": {
       "model_id": "372d28dbd6d44be3ac06efac8e6befc2",
       "version_major": 2,
       "version_minor": 0
      },
      "text/plain": [
       "HBox(children=(IntProgress(value=0, description='[TRAINING]', max=42, style=ProgressStyle(description_width='i…"
      ]
     },
     "metadata": {},
     "output_type": "display_data"
    },
    {
     "name": "stdout",
     "output_type": "stream",
     "text": [
      "[TRAINING] Epoch 80 loss is 0.0408\n",
      "[TRAINING] Epoch 80 accuracy is 0.9867\n"
     ]
    },
    {
     "data": {
      "application/vnd.jupyter.widget-view+json": {
       "model_id": "a6581e16e6184b658cf6d770ea93bf4a",
       "version_major": 2,
       "version_minor": 0
      },
      "text/plain": [
       "HBox(children=(IntProgress(value=0, description='[VALIDATION]', max=74, style=ProgressStyle(description_width=…"
      ]
     },
     "metadata": {},
     "output_type": "display_data"
    },
    {
     "name": "stdout",
     "output_type": "stream",
     "text": [
      "[VALIDATION] Epoch 80 loss is 0.0117\n",
      "[VALIDATION] Epoch 80 accuracy is 0.9968\n",
      "\n",
      "Completed epoch 80!\n",
      "\n",
      "Starting epoch 81...\n"
     ]
    },
    {
     "data": {
      "application/vnd.jupyter.widget-view+json": {
       "model_id": "462ba743dc744399bbef41bdb94f308f",
       "version_major": 2,
       "version_minor": 0
      },
      "text/plain": [
       "HBox(children=(IntProgress(value=0, description='[TRAINING]', max=42, style=ProgressStyle(description_width='i…"
      ]
     },
     "metadata": {},
     "output_type": "display_data"
    },
    {
     "name": "stdout",
     "output_type": "stream",
     "text": [
      "[TRAINING] Epoch 81 loss is 0.0406\n",
      "[TRAINING] Epoch 81 accuracy is 0.9866\n"
     ]
    },
    {
     "data": {
      "application/vnd.jupyter.widget-view+json": {
       "model_id": "8d7b0065072b4590a9d88ff81217aabc",
       "version_major": 2,
       "version_minor": 0
      },
      "text/plain": [
       "HBox(children=(IntProgress(value=0, description='[VALIDATION]', max=74, style=ProgressStyle(description_width=…"
      ]
     },
     "metadata": {},
     "output_type": "display_data"
    },
    {
     "name": "stdout",
     "output_type": "stream",
     "text": [
      "[VALIDATION] Epoch 81 loss is 0.0116\n",
      "[VALIDATION] Epoch 81 accuracy is 0.9968\n",
      "\n",
      "Completed epoch 81!\n",
      "\n",
      "Starting epoch 82...\n"
     ]
    },
    {
     "data": {
      "application/vnd.jupyter.widget-view+json": {
       "model_id": "93e2082e6f6c42d38dbe3e454d9fcf38",
       "version_major": 2,
       "version_minor": 0
      },
      "text/plain": [
       "HBox(children=(IntProgress(value=0, description='[TRAINING]', max=42, style=ProgressStyle(description_width='i…"
      ]
     },
     "metadata": {},
     "output_type": "display_data"
    },
    {
     "name": "stdout",
     "output_type": "stream",
     "text": [
      "[TRAINING] Epoch 82 loss is 0.0400\n",
      "[TRAINING] Epoch 82 accuracy is 0.9869\n"
     ]
    },
    {
     "data": {
      "application/vnd.jupyter.widget-view+json": {
       "model_id": "939180faef4b498eaa5871ff07312ca2",
       "version_major": 2,
       "version_minor": 0
      },
      "text/plain": [
       "HBox(children=(IntProgress(value=0, description='[VALIDATION]', max=74, style=ProgressStyle(description_width=…"
      ]
     },
     "metadata": {},
     "output_type": "display_data"
    },
    {
     "name": "stdout",
     "output_type": "stream",
     "text": [
      "[VALIDATION] Epoch 82 loss is 0.0114\n",
      "[VALIDATION] Epoch 82 accuracy is 0.9969\n",
      "\n",
      "Completed epoch 82!\n",
      "\n",
      "Starting epoch 83...\n"
     ]
    },
    {
     "data": {
      "application/vnd.jupyter.widget-view+json": {
       "model_id": "95cac1d0e649485da31a375f3ae6d28d",
       "version_major": 2,
       "version_minor": 0
      },
      "text/plain": [
       "HBox(children=(IntProgress(value=0, description='[TRAINING]', max=42, style=ProgressStyle(description_width='i…"
      ]
     },
     "metadata": {},
     "output_type": "display_data"
    },
    {
     "name": "stdout",
     "output_type": "stream",
     "text": [
      "[TRAINING] Epoch 83 loss is 0.0386\n",
      "[TRAINING] Epoch 83 accuracy is 0.9872\n"
     ]
    },
    {
     "data": {
      "application/vnd.jupyter.widget-view+json": {
       "model_id": "aa528196d5df4a63827f5a4b971f42ac",
       "version_major": 2,
       "version_minor": 0
      },
      "text/plain": [
       "HBox(children=(IntProgress(value=0, description='[VALIDATION]', max=74, style=ProgressStyle(description_width=…"
      ]
     },
     "metadata": {},
     "output_type": "display_data"
    },
    {
     "name": "stdout",
     "output_type": "stream",
     "text": [
      "[VALIDATION] Epoch 83 loss is 0.0112\n",
      "[VALIDATION] Epoch 83 accuracy is 0.9968\n",
      "\n",
      "Completed epoch 83!\n",
      "\n",
      "Starting epoch 84...\n"
     ]
    },
    {
     "data": {
      "application/vnd.jupyter.widget-view+json": {
       "model_id": "c12354ec03994d2da0916caba6a6a1dc",
       "version_major": 2,
       "version_minor": 0
      },
      "text/plain": [
       "HBox(children=(IntProgress(value=0, description='[TRAINING]', max=42, style=ProgressStyle(description_width='i…"
      ]
     },
     "metadata": {},
     "output_type": "display_data"
    },
    {
     "name": "stdout",
     "output_type": "stream",
     "text": [
      "[TRAINING] Epoch 84 loss is 0.0388\n",
      "[TRAINING] Epoch 84 accuracy is 0.9875\n"
     ]
    },
    {
     "data": {
      "application/vnd.jupyter.widget-view+json": {
       "model_id": "4ce47ae1d21c4955abf04cae11783326",
       "version_major": 2,
       "version_minor": 0
      },
      "text/plain": [
       "HBox(children=(IntProgress(value=0, description='[VALIDATION]', max=74, style=ProgressStyle(description_width=…"
      ]
     },
     "metadata": {},
     "output_type": "display_data"
    },
    {
     "name": "stdout",
     "output_type": "stream",
     "text": [
      "[VALIDATION] Epoch 84 loss is 0.0115\n",
      "[VALIDATION] Epoch 84 accuracy is 0.9967\n",
      "\n",
      "Completed epoch 84!\n",
      "\n",
      "Starting epoch 85...\n"
     ]
    },
    {
     "data": {
      "application/vnd.jupyter.widget-view+json": {
       "model_id": "9c4f03a39570426c85c1e11f8f722603",
       "version_major": 2,
       "version_minor": 0
      },
      "text/plain": [
       "HBox(children=(IntProgress(value=0, description='[TRAINING]', max=42, style=ProgressStyle(description_width='i…"
      ]
     },
     "metadata": {},
     "output_type": "display_data"
    },
    {
     "name": "stdout",
     "output_type": "stream",
     "text": [
      "[TRAINING] Epoch 85 loss is 0.0392\n",
      "[TRAINING] Epoch 85 accuracy is 0.9873\n"
     ]
    },
    {
     "data": {
      "application/vnd.jupyter.widget-view+json": {
       "model_id": "2cd2ad07305b431fb4280244a38973ef",
       "version_major": 2,
       "version_minor": 0
      },
      "text/plain": [
       "HBox(children=(IntProgress(value=0, description='[VALIDATION]', max=74, style=ProgressStyle(description_width=…"
      ]
     },
     "metadata": {},
     "output_type": "display_data"
    },
    {
     "name": "stdout",
     "output_type": "stream",
     "text": [
      "[VALIDATION] Epoch 85 loss is 0.0112\n",
      "[VALIDATION] Epoch 85 accuracy is 0.9969\n",
      "\n",
      "Completed epoch 85!\n",
      "\n",
      "Starting epoch 86...\n"
     ]
    },
    {
     "data": {
      "application/vnd.jupyter.widget-view+json": {
       "model_id": "063dfedeb5824c46a302c8a65c092014",
       "version_major": 2,
       "version_minor": 0
      },
      "text/plain": [
       "HBox(children=(IntProgress(value=0, description='[TRAINING]', max=42, style=ProgressStyle(description_width='i…"
      ]
     },
     "metadata": {},
     "output_type": "display_data"
    },
    {
     "name": "stdout",
     "output_type": "stream",
     "text": [
      "[TRAINING] Epoch 86 loss is 0.0384\n",
      "[TRAINING] Epoch 86 accuracy is 0.9873\n"
     ]
    },
    {
     "data": {
      "application/vnd.jupyter.widget-view+json": {
       "model_id": "88fc26d8d4f34e4f828ecd183b61e532",
       "version_major": 2,
       "version_minor": 0
      },
      "text/plain": [
       "HBox(children=(IntProgress(value=0, description='[VALIDATION]', max=74, style=ProgressStyle(description_width=…"
      ]
     },
     "metadata": {},
     "output_type": "display_data"
    },
    {
     "name": "stdout",
     "output_type": "stream",
     "text": [
      "[VALIDATION] Epoch 86 loss is 0.0114\n",
      "[VALIDATION] Epoch 86 accuracy is 0.9971\n",
      "\n",
      "Completed epoch 86!\n",
      "\n",
      "Starting epoch 87...\n"
     ]
    },
    {
     "data": {
      "application/vnd.jupyter.widget-view+json": {
       "model_id": "c4a7b5150d0b417cb5aabea517d0832c",
       "version_major": 2,
       "version_minor": 0
      },
      "text/plain": [
       "HBox(children=(IntProgress(value=0, description='[TRAINING]', max=42, style=ProgressStyle(description_width='i…"
      ]
     },
     "metadata": {},
     "output_type": "display_data"
    },
    {
     "name": "stdout",
     "output_type": "stream",
     "text": [
      "[TRAINING] Epoch 87 loss is 0.0367\n",
      "[TRAINING] Epoch 87 accuracy is 0.9878\n"
     ]
    },
    {
     "data": {
      "application/vnd.jupyter.widget-view+json": {
       "model_id": "653a5344a83340c09339eae684dfee81",
       "version_major": 2,
       "version_minor": 0
      },
      "text/plain": [
       "HBox(children=(IntProgress(value=0, description='[VALIDATION]', max=74, style=ProgressStyle(description_width=…"
      ]
     },
     "metadata": {},
     "output_type": "display_data"
    },
    {
     "name": "stdout",
     "output_type": "stream",
     "text": [
      "[VALIDATION] Epoch 87 loss is 0.0108\n",
      "[VALIDATION] Epoch 87 accuracy is 0.9969\n",
      "\n",
      "Completed epoch 87!\n",
      "\n",
      "Starting epoch 88...\n"
     ]
    },
    {
     "data": {
      "application/vnd.jupyter.widget-view+json": {
       "model_id": "e06e39cea61c4394a506fb273d4dd419",
       "version_major": 2,
       "version_minor": 0
      },
      "text/plain": [
       "HBox(children=(IntProgress(value=0, description='[TRAINING]', max=42, style=ProgressStyle(description_width='i…"
      ]
     },
     "metadata": {},
     "output_type": "display_data"
    },
    {
     "name": "stdout",
     "output_type": "stream",
     "text": [
      "[TRAINING] Epoch 88 loss is 0.0346\n",
      "[TRAINING] Epoch 88 accuracy is 0.9887\n"
     ]
    },
    {
     "data": {
      "application/vnd.jupyter.widget-view+json": {
       "model_id": "4fca69a64bb64ecf8cf2193e334b4de5",
       "version_major": 2,
       "version_minor": 0
      },
      "text/plain": [
       "HBox(children=(IntProgress(value=0, description='[VALIDATION]', max=74, style=ProgressStyle(description_width=…"
      ]
     },
     "metadata": {},
     "output_type": "display_data"
    },
    {
     "name": "stdout",
     "output_type": "stream",
     "text": [
      "[VALIDATION] Epoch 88 loss is 0.0105\n",
      "[VALIDATION] Epoch 88 accuracy is 0.9973\n",
      "\n",
      "Completed epoch 88!\n",
      "\n",
      "Starting epoch 89...\n"
     ]
    },
    {
     "data": {
      "application/vnd.jupyter.widget-view+json": {
       "model_id": "fa98bdff60044b909de28cb4b540d42a",
       "version_major": 2,
       "version_minor": 0
      },
      "text/plain": [
       "HBox(children=(IntProgress(value=0, description='[TRAINING]', max=42, style=ProgressStyle(description_width='i…"
      ]
     },
     "metadata": {},
     "output_type": "display_data"
    },
    {
     "name": "stdout",
     "output_type": "stream",
     "text": [
      "[TRAINING] Epoch 89 loss is 0.0350\n",
      "[TRAINING] Epoch 89 accuracy is 0.9888\n"
     ]
    },
    {
     "data": {
      "application/vnd.jupyter.widget-view+json": {
       "model_id": "4705b33b6da442218973d2503f8cfe82",
       "version_major": 2,
       "version_minor": 0
      },
      "text/plain": [
       "HBox(children=(IntProgress(value=0, description='[VALIDATION]', max=74, style=ProgressStyle(description_width=…"
      ]
     },
     "metadata": {},
     "output_type": "display_data"
    },
    {
     "name": "stdout",
     "output_type": "stream",
     "text": [
      "[VALIDATION] Epoch 89 loss is 0.0106\n",
      "[VALIDATION] Epoch 89 accuracy is 0.9972\n",
      "\n",
      "Completed epoch 89!\n",
      "\n",
      "Starting epoch 90...\n"
     ]
    },
    {
     "data": {
      "application/vnd.jupyter.widget-view+json": {
       "model_id": "4359550eb126445495e68dff95e77c75",
       "version_major": 2,
       "version_minor": 0
      },
      "text/plain": [
       "HBox(children=(IntProgress(value=0, description='[TRAINING]', max=42, style=ProgressStyle(description_width='i…"
      ]
     },
     "metadata": {},
     "output_type": "display_data"
    },
    {
     "name": "stdout",
     "output_type": "stream",
     "text": [
      "[TRAINING] Epoch 90 loss is 0.0354\n",
      "[TRAINING] Epoch 90 accuracy is 0.9886\n"
     ]
    },
    {
     "data": {
      "application/vnd.jupyter.widget-view+json": {
       "model_id": "b5146f24a9f843e39b4af93e77fc0db8",
       "version_major": 2,
       "version_minor": 0
      },
      "text/plain": [
       "HBox(children=(IntProgress(value=0, description='[VALIDATION]', max=74, style=ProgressStyle(description_width=…"
      ]
     },
     "metadata": {},
     "output_type": "display_data"
    },
    {
     "name": "stdout",
     "output_type": "stream",
     "text": [
      "[VALIDATION] Epoch 90 loss is 0.0101\n",
      "[VALIDATION] Epoch 90 accuracy is 0.9973\n",
      "\n",
      "Completed epoch 90!\n",
      "\n",
      "Starting epoch 91...\n"
     ]
    },
    {
     "data": {
      "application/vnd.jupyter.widget-view+json": {
       "model_id": "d2a96dd23fc746fa81213998c0bd0712",
       "version_major": 2,
       "version_minor": 0
      },
      "text/plain": [
       "HBox(children=(IntProgress(value=0, description='[TRAINING]', max=42, style=ProgressStyle(description_width='i…"
      ]
     },
     "metadata": {},
     "output_type": "display_data"
    },
    {
     "name": "stdout",
     "output_type": "stream",
     "text": [
      "[TRAINING] Epoch 91 loss is 0.0348\n",
      "[TRAINING] Epoch 91 accuracy is 0.9886\n"
     ]
    },
    {
     "data": {
      "application/vnd.jupyter.widget-view+json": {
       "model_id": "da98f819933e4f3e820b4b5f07244cf6",
       "version_major": 2,
       "version_minor": 0
      },
      "text/plain": [
       "HBox(children=(IntProgress(value=0, description='[VALIDATION]', max=74, style=ProgressStyle(description_width=…"
      ]
     },
     "metadata": {},
     "output_type": "display_data"
    },
    {
     "name": "stdout",
     "output_type": "stream",
     "text": [
      "[VALIDATION] Epoch 91 loss is 0.0100\n",
      "[VALIDATION] Epoch 91 accuracy is 0.9973\n",
      "\n",
      "Completed epoch 91!\n",
      "\n",
      "Starting epoch 92...\n"
     ]
    },
    {
     "data": {
      "application/vnd.jupyter.widget-view+json": {
       "model_id": "54f990ff86e14a6d8e35f0d162fda77b",
       "version_major": 2,
       "version_minor": 0
      },
      "text/plain": [
       "HBox(children=(IntProgress(value=0, description='[TRAINING]', max=42, style=ProgressStyle(description_width='i…"
      ]
     },
     "metadata": {},
     "output_type": "display_data"
    },
    {
     "name": "stdout",
     "output_type": "stream",
     "text": [
      "[TRAINING] Epoch 92 loss is 0.0330\n",
      "[TRAINING] Epoch 92 accuracy is 0.9894\n"
     ]
    },
    {
     "data": {
      "application/vnd.jupyter.widget-view+json": {
       "model_id": "93e9a575b2d54eab98cb81f94af50a02",
       "version_major": 2,
       "version_minor": 0
      },
      "text/plain": [
       "HBox(children=(IntProgress(value=0, description='[VALIDATION]', max=74, style=ProgressStyle(description_width=…"
      ]
     },
     "metadata": {},
     "output_type": "display_data"
    },
    {
     "name": "stdout",
     "output_type": "stream",
     "text": [
      "[VALIDATION] Epoch 92 loss is 0.0101\n",
      "[VALIDATION] Epoch 92 accuracy is 0.9975\n",
      "\n",
      "Completed epoch 92!\n",
      "\n",
      "Starting epoch 93...\n"
     ]
    },
    {
     "data": {
      "application/vnd.jupyter.widget-view+json": {
       "model_id": "7f68dd5c534b4f5e9e40077f24c0e240",
       "version_major": 2,
       "version_minor": 0
      },
      "text/plain": [
       "HBox(children=(IntProgress(value=0, description='[TRAINING]', max=42, style=ProgressStyle(description_width='i…"
      ]
     },
     "metadata": {},
     "output_type": "display_data"
    },
    {
     "name": "stdout",
     "output_type": "stream",
     "text": [
      "[TRAINING] Epoch 93 loss is 0.0319\n",
      "[TRAINING] Epoch 93 accuracy is 0.9897\n"
     ]
    },
    {
     "data": {
      "application/vnd.jupyter.widget-view+json": {
       "model_id": "ac9b4e3360d5444dbc0051e732ea52bd",
       "version_major": 2,
       "version_minor": 0
      },
      "text/plain": [
       "HBox(children=(IntProgress(value=0, description='[VALIDATION]', max=74, style=ProgressStyle(description_width=…"
      ]
     },
     "metadata": {},
     "output_type": "display_data"
    },
    {
     "name": "stdout",
     "output_type": "stream",
     "text": [
      "[VALIDATION] Epoch 93 loss is 0.0118\n",
      "[VALIDATION] Epoch 93 accuracy is 0.9967\n",
      "\n",
      "Completed epoch 93!\n",
      "\n",
      "Starting epoch 94...\n"
     ]
    },
    {
     "data": {
      "application/vnd.jupyter.widget-view+json": {
       "model_id": "fd9fc16e6c814a07bc772d42baa6d9b2",
       "version_major": 2,
       "version_minor": 0
      },
      "text/plain": [
       "HBox(children=(IntProgress(value=0, description='[TRAINING]', max=42, style=ProgressStyle(description_width='i…"
      ]
     },
     "metadata": {},
     "output_type": "display_data"
    },
    {
     "name": "stdout",
     "output_type": "stream",
     "text": [
      "[TRAINING] Epoch 94 loss is 0.0349\n",
      "[TRAINING] Epoch 94 accuracy is 0.9888\n"
     ]
    },
    {
     "data": {
      "application/vnd.jupyter.widget-view+json": {
       "model_id": "77f819eb2c2e4409a1f6899c86333019",
       "version_major": 2,
       "version_minor": 0
      },
      "text/plain": [
       "HBox(children=(IntProgress(value=0, description='[VALIDATION]', max=74, style=ProgressStyle(description_width=…"
      ]
     },
     "metadata": {},
     "output_type": "display_data"
    },
    {
     "name": "stdout",
     "output_type": "stream",
     "text": [
      "[VALIDATION] Epoch 94 loss is 0.0103\n",
      "[VALIDATION] Epoch 94 accuracy is 0.9976\n",
      "\n",
      "Completed epoch 94!\n",
      "\n",
      "Starting epoch 95...\n"
     ]
    },
    {
     "data": {
      "application/vnd.jupyter.widget-view+json": {
       "model_id": "ba78d9210b5a48f1a5715b1bf9e53903",
       "version_major": 2,
       "version_minor": 0
      },
      "text/plain": [
       "HBox(children=(IntProgress(value=0, description='[TRAINING]', max=42, style=ProgressStyle(description_width='i…"
      ]
     },
     "metadata": {},
     "output_type": "display_data"
    },
    {
     "name": "stdout",
     "output_type": "stream",
     "text": [
      "[TRAINING] Epoch 95 loss is 0.0340\n",
      "[TRAINING] Epoch 95 accuracy is 0.9892\n"
     ]
    },
    {
     "data": {
      "application/vnd.jupyter.widget-view+json": {
       "model_id": "924f2c3e191645f594952f6b76513a3b",
       "version_major": 2,
       "version_minor": 0
      },
      "text/plain": [
       "HBox(children=(IntProgress(value=0, description='[VALIDATION]', max=74, style=ProgressStyle(description_width=…"
      ]
     },
     "metadata": {},
     "output_type": "display_data"
    },
    {
     "name": "stdout",
     "output_type": "stream",
     "text": [
      "[VALIDATION] Epoch 95 loss is 0.0103\n",
      "[VALIDATION] Epoch 95 accuracy is 0.9975\n",
      "\n",
      "Completed epoch 95!\n",
      "\n",
      "Starting epoch 96...\n"
     ]
    },
    {
     "data": {
      "application/vnd.jupyter.widget-view+json": {
       "model_id": "e453a16a3cec41019f79c7b541e82b88",
       "version_major": 2,
       "version_minor": 0
      },
      "text/plain": [
       "HBox(children=(IntProgress(value=0, description='[TRAINING]', max=42, style=ProgressStyle(description_width='i…"
      ]
     },
     "metadata": {},
     "output_type": "display_data"
    },
    {
     "name": "stdout",
     "output_type": "stream",
     "text": [
      "[TRAINING] Epoch 96 loss is 0.0323\n",
      "[TRAINING] Epoch 96 accuracy is 0.9891\n"
     ]
    },
    {
     "data": {
      "application/vnd.jupyter.widget-view+json": {
       "model_id": "4d42bef2a7304356b6b2bc9ed6a36f07",
       "version_major": 2,
       "version_minor": 0
      },
      "text/plain": [
       "HBox(children=(IntProgress(value=0, description='[VALIDATION]', max=74, style=ProgressStyle(description_width=…"
      ]
     },
     "metadata": {},
     "output_type": "display_data"
    },
    {
     "name": "stdout",
     "output_type": "stream",
     "text": [
      "[VALIDATION] Epoch 96 loss is 0.0101\n",
      "[VALIDATION] Epoch 96 accuracy is 0.9971\n",
      "\n",
      "Completed epoch 96!\n",
      "\n",
      "Starting epoch 97...\n"
     ]
    },
    {
     "data": {
      "application/vnd.jupyter.widget-view+json": {
       "model_id": "e9981e1e19054077ad1cd9ac039c5a66",
       "version_major": 2,
       "version_minor": 0
      },
      "text/plain": [
       "HBox(children=(IntProgress(value=0, description='[TRAINING]', max=42, style=ProgressStyle(description_width='i…"
      ]
     },
     "metadata": {},
     "output_type": "display_data"
    },
    {
     "name": "stdout",
     "output_type": "stream",
     "text": [
      "[TRAINING] Epoch 97 loss is 0.0319\n",
      "[TRAINING] Epoch 97 accuracy is 0.9897\n"
     ]
    },
    {
     "data": {
      "application/vnd.jupyter.widget-view+json": {
       "model_id": "be5d0ae03fcf4c3485b7d2c90ffc62d4",
       "version_major": 2,
       "version_minor": 0
      },
      "text/plain": [
       "HBox(children=(IntProgress(value=0, description='[VALIDATION]', max=74, style=ProgressStyle(description_width=…"
      ]
     },
     "metadata": {},
     "output_type": "display_data"
    },
    {
     "name": "stdout",
     "output_type": "stream",
     "text": [
      "[VALIDATION] Epoch 97 loss is 0.0100\n",
      "[VALIDATION] Epoch 97 accuracy is 0.9972\n",
      "\n",
      "Completed epoch 97!\n",
      "\n",
      "Starting epoch 98...\n"
     ]
    },
    {
     "data": {
      "application/vnd.jupyter.widget-view+json": {
       "model_id": "c79def864cb24a33b775ccdb6e435979",
       "version_major": 2,
       "version_minor": 0
      },
      "text/plain": [
       "HBox(children=(IntProgress(value=0, description='[TRAINING]', max=42, style=ProgressStyle(description_width='i…"
      ]
     },
     "metadata": {},
     "output_type": "display_data"
    },
    {
     "name": "stdout",
     "output_type": "stream",
     "text": [
      "[TRAINING] Epoch 98 loss is 0.0320\n",
      "[TRAINING] Epoch 98 accuracy is 0.9897\n"
     ]
    },
    {
     "data": {
      "application/vnd.jupyter.widget-view+json": {
       "model_id": "805733039c264e588c847bb34392b001",
       "version_major": 2,
       "version_minor": 0
      },
      "text/plain": [
       "HBox(children=(IntProgress(value=0, description='[VALIDATION]', max=74, style=ProgressStyle(description_width=…"
      ]
     },
     "metadata": {},
     "output_type": "display_data"
    },
    {
     "name": "stdout",
     "output_type": "stream",
     "text": [
      "[VALIDATION] Epoch 98 loss is 0.0103\n",
      "[VALIDATION] Epoch 98 accuracy is 0.9971\n",
      "\n",
      "Completed epoch 98!\n",
      "\n",
      "Starting epoch 99...\n"
     ]
    },
    {
     "data": {
      "application/vnd.jupyter.widget-view+json": {
       "model_id": "3d64005970ee4457bbb912dd4ac17bd7",
       "version_major": 2,
       "version_minor": 0
      },
      "text/plain": [
       "HBox(children=(IntProgress(value=0, description='[TRAINING]', max=42, style=ProgressStyle(description_width='i…"
      ]
     },
     "metadata": {},
     "output_type": "display_data"
    },
    {
     "name": "stdout",
     "output_type": "stream",
     "text": [
      "[TRAINING] Epoch 99 loss is 0.0326\n",
      "[TRAINING] Epoch 99 accuracy is 0.9897\n"
     ]
    },
    {
     "data": {
      "application/vnd.jupyter.widget-view+json": {
       "model_id": "8c92e660773247778bd2a107ede06934",
       "version_major": 2,
       "version_minor": 0
      },
      "text/plain": [
       "HBox(children=(IntProgress(value=0, description='[VALIDATION]', max=74, style=ProgressStyle(description_width=…"
      ]
     },
     "metadata": {},
     "output_type": "display_data"
    },
    {
     "name": "stdout",
     "output_type": "stream",
     "text": [
      "[VALIDATION] Epoch 99 loss is 0.0096\n",
      "[VALIDATION] Epoch 99 accuracy is 0.9975\n",
      "\n",
      "Completed epoch 99!\n",
      "\n",
      "Starting epoch 100...\n"
     ]
    },
    {
     "data": {
      "application/vnd.jupyter.widget-view+json": {
       "model_id": "c77d27799967421683e24ccad6ba4f3c",
       "version_major": 2,
       "version_minor": 0
      },
      "text/plain": [
       "HBox(children=(IntProgress(value=0, description='[TRAINING]', max=42, style=ProgressStyle(description_width='i…"
      ]
     },
     "metadata": {},
     "output_type": "display_data"
    },
    {
     "name": "stdout",
     "output_type": "stream",
     "text": [
      "[TRAINING] Epoch 100 loss is 0.0327\n",
      "[TRAINING] Epoch 100 accuracy is 0.9895\n"
     ]
    },
    {
     "data": {
      "application/vnd.jupyter.widget-view+json": {
       "model_id": "5441ad49579940f8911f3c9cc6547ae8",
       "version_major": 2,
       "version_minor": 0
      },
      "text/plain": [
       "HBox(children=(IntProgress(value=0, description='[VALIDATION]', max=74, style=ProgressStyle(description_width=…"
      ]
     },
     "metadata": {},
     "output_type": "display_data"
    },
    {
     "name": "stdout",
     "output_type": "stream",
     "text": [
      "[VALIDATION] Epoch 100 loss is 0.0097\n",
      "[VALIDATION] Epoch 100 accuracy is 0.9974\n",
      "\n",
      "Completed epoch 100!\n",
      "\n"
     ]
    }
   ],
   "source": [
    "#train_validate_model(captcha_cnn_classifier, optimizer, criterion, training_ds, validation_ds, training_ds_batch_size=TRAINING_BATCH_SIZE, num_epochs=EPOCHS, checkpoint_model=True)"
   ]
  },
  {
   "cell_type": "markdown",
   "metadata": {},
   "source": [
    "## Results"
   ]
  },
  {
   "cell_type": "markdown",
   "metadata": {},
   "source": [
    "In order to plot the loss and accuracy, let's load the model checkpoint."
   ]
  },
  {
   "cell_type": "code",
   "execution_count": 14,
   "metadata": {},
   "outputs": [],
   "source": [
    "captcha_cnn_classifier, _, train_loss, val_loss, train_acc, val_acc = load_model_checkpoint(captcha_cnn_classifier, optimizer, CAPTCHACNNCLASSIFIER_MODEL_CHECKPOINT_FILEPATH.format(100))"
   ]
  },
  {
   "cell_type": "code",
   "execution_count": 15,
   "metadata": {},
   "outputs": [],
   "source": [
    "num_epochs = range(1, EPOCHS + 1)"
   ]
  },
  {
   "cell_type": "markdown",
   "metadata": {},
   "source": [
    "First, let's plot the training and validation losses together."
   ]
  },
  {
   "cell_type": "code",
   "execution_count": 17,
   "metadata": {},
   "outputs": [
    {
     "data": {
      "image/png": "[encoded data removed]",
      "text/plain": [
       "<Figure size 432x288 with 1 Axes>"
      ]
     },
     "metadata": {},
     "output_type": "display_data"
    }
   ],
   "source": [
    "plt.subplot(111)\n",
    "plt.plot(num_epochs, train_loss, label=\"Training set\")\n",
    "plt.plot(num_epochs, val_loss, label=\"Validation set\")\n",
    "plt.xlabel(\"Epoch\")\n",
    "plt.ylabel(\"Loss\")\n",
    "plt.title(\"Training and validation loss\")\n",
    "plt.legend()\n",
    "plt.show()"
   ]
  },
  {
   "cell_type": "markdown",
   "metadata": {},
   "source": [
    "**Figure 2:** The training and validation loss for 100 epochs"
   ]
  },
  {
   "cell_type": "markdown",
   "metadata": {},
   "source": [
    "In **Figure 2**, the training and validation losses are decreasing in the same number of epochs. The spikes approximately between epochs 15 to 18 are due to the nature of momentum where it updates the gradient. However, from epoch 18 and onwards, the gradient updates have stabilized."
   ]
  },
  {
   "cell_type": "markdown",
   "metadata": {},
   "source": [
    "Next, let's take a look at training and validation accuracies."
   ]
  },
  {
   "cell_type": "code",
   "execution_count": 18,
   "metadata": {},
   "outputs": [
    {
     "data": {
      "image/png": "[encoded data removed]",
      "text/plain": [
       "<Figure size 432x288 with 1 Axes>"
      ]
     },
     "metadata": {},
     "output_type": "display_data"
    }
   ],
   "source": [
    "plt.subplot(111)\n",
    "plt.plot(num_epochs, train_acc, label=\"Training set\")\n",
    "plt.plot(num_epochs, val_acc, label=\"Validation set\")\n",
    "plt.xlabel(\"Epoch\")\n",
    "plt.ylabel(\"Accuracy\")\n",
    "plt.title(\"Training and validation accuracy\")\n",
    "plt.legend()\n",
    "plt.show()"
   ]
  },
  {
   "cell_type": "markdown",
   "metadata": {},
   "source": [
    "**Figure 3:** The training and validation accuracy for 100 epochs"
   ]
  },
  {
   "cell_type": "markdown",
   "metadata": {},
   "source": [
    "In **Figure 3**, the training and validation accuracies show similar spikes approximately in epochs 15 to 18 as in **Figure 2**. This is a valid phenomenon because if the loss increases, the model makes more mistakes in its predictions."
   ]
  },
  {
   "cell_type": "markdown",
   "metadata": {},
   "source": [
    "Note that from **figures 2 and 3**, the model is not overfitting nor underfitting. The model's performance is the right balance for the bias-variance tradeoff problem. In addition, it is good to notice that once the model got around epochs 90 to 100, the model's training accuracy is not increasing any further. Instead, it fluctuates around 98%. This means that our model has converged."
   ]
  },
  {
   "cell_type": "markdown",
   "metadata": {},
   "source": [
    "Lastly, it is good to notice that the training and validation accuracies are **98.95%** and **99.74%**, respectively. Meanwhile, the training and validation losses are **0.0327** and **0.0097**, respectively."
   ]
  },
  {
   "cell_type": "markdown",
   "metadata": {},
   "source": [
    "## Test set performance"
   ]
  },
  {
   "cell_type": "markdown",
   "metadata": {},
   "source": [
    "The dataset source has provided a separate test dataset. Before taking a look at the performance of our model, let's write a helper function to evaluate our model using test dataset."
   ]
  },
  {
   "cell_type": "code",
   "execution_count": 43,
   "metadata": {},
   "outputs": [],
   "source": [
    "def test_model(model, criterion, test_ds, batch_size=64):\n",
    "    test_dl = DataLoader(test_ds, batch_size=batch_size)\n",
    "    test_losses = []\n",
    "    test_accuracies = []\n",
    "    \n",
    "    # Ensure that model is in evaluation mode\n",
    "    model.eval()\n",
    "    \n",
    "    print(\"[TEST] Running the model with test set...\")\n",
    "    \n",
    "    with torch.no_grad():    \n",
    "        for inputs, labels in tqdm_notebook(test_dl, desc=\"[TEST]\"):\n",
    "            inputs = inputs.to(DEVICE)\n",
    "            labels = labels.to(DEVICE)\n",
    "\n",
    "            predictions = model(inputs)\n",
    "            predictions = predictions.view(predictions.size(0) * predictions.size(1), -1)\n",
    "            labels = labels.view(-1)\n",
    "            loss = criterion(predictions, labels)\n",
    "\n",
    "            test_losses.append(loss.item())\n",
    "            test_accuracies.append(calculate_accuracy(predictions, labels).item())\n",
    "\n",
    "    print(\"[TEST] Loss is {:.4f}\".format(sum(test_losses) / len(test_dl)))\n",
    "    print(\"[TEST] Accuracy is {:.4f}\".format(sum(test_accuracies) / len(test_accuracies)))\n",
    "    \n",
    "    print(\"[TEST] Done!\")"
   ]
  },
  {
   "cell_type": "code",
   "execution_count": 32,
   "metadata": {},
   "outputs": [
    {
     "name": "stdout",
     "output_type": "stream",
     "text": [
      "[TEST] Running the model with test set...\n"
     ]
    },
    {
     "data": {
      "application/vnd.jupyter.widget-view+json": {
       "model_id": "e400cf62bc12488593bcbbaefa9ba4a1",
       "version_major": 2,
       "version_minor": 0
      },
      "text/plain": [
       "HBox(children=(IntProgress(value=0, description='[TEST]', max=244, style=ProgressStyle(description_width='init…"
      ]
     },
     "metadata": {},
     "output_type": "display_data"
    },
    {
     "name": "stdout",
     "output_type": "stream",
     "text": [
      "\n",
      "[TEST] Loss is 0.0087\n",
      "[TEST] Accuracy is 0.9976\n",
      "[TEST] Done!\n"
     ]
    }
   ],
   "source": [
    "test_model(captcha_cnn_classifier, criterion, test_ds)"
   ]
  },
  {
   "cell_type": "markdown",
   "metadata": {},
   "source": [
    "This is a pretty impressive model performance! With an accuracy of **99.76%**, we can predict similar CAPTCHA images. Let's see it in action."
   ]
  },
  {
   "cell_type": "code",
   "execution_count": 38,
   "metadata": {},
   "outputs": [],
   "source": [
    "test_indices = np.arange(len(test_ds))\n",
    "np.random.shuffle(test_indices)\n",
    "test_index = test_indices[0]\n",
    "\n",
    "# Ensure model is in evaluation mode\n",
    "captcha_cnn_classifier.eval()\n",
    "\n",
    "with torch.no_grad():\n",
    "    input, label = test_ds[test_index]\n",
    "    input, label = input.to(DEVICE), label.to(DEVICE)\n",
    "\n",
    "    # Note that a batch size dimension is required since PyTorch works with batched tensors\n",
    "    input = input.unsqueeze(0)\n",
    "\n",
    "    prediction = captcha_cnn_classifier(input).squeeze()\n",
    "    prediction = nn.LogSoftmax(dim=1)(prediction)\n",
    "    prediction = torch.max(prediction, dim=1)[1].data"
   ]
  },
  {
   "cell_type": "markdown",
   "metadata": {},
   "source": [
    "Let's see what `prediction` looks like:"
   ]
  },
  {
   "cell_type": "code",
   "execution_count": 39,
   "metadata": {},
   "outputs": [
    {
     "name": "stdout",
     "output_type": "stream",
     "text": [
      "tensor([24, 11, 19], device='cuda:0')\n"
     ]
    }
   ],
   "source": [
    "print(prediction)"
   ]
  },
  {
   "cell_type": "markdown",
   "metadata": {},
   "source": [
    "Here are the characters representing this tensor:"
   ]
  },
  {
   "cell_type": "code",
   "execution_count": 40,
   "metadata": {},
   "outputs": [
    {
     "name": "stdout",
     "output_type": "stream",
     "text": [
      "ylt\n"
     ]
    }
   ],
   "source": [
    "print(vocab.convert_indices_to_sequences(prediction))"
   ]
  },
  {
   "cell_type": "markdown",
   "metadata": {},
   "source": [
    "And here's the random image from the test dataset:"
   ]
  },
  {
   "cell_type": "code",
   "execution_count": 41,
   "metadata": {},
   "outputs": [
    {
     "data": {
      "image/png": "[encoded data removed]",
      "text/plain": [
       "<PIL.Image.Image image mode=L size=100x100 at 0x7FF57AF069B0>"
      ]
     },
     "execution_count": 41,
     "metadata": {},
     "output_type": "execute_result"
    }
   ],
   "source": [
    "input_image = input.squeeze(0).cpu()\n",
    "PILImageTransform = transforms.ToPILImage()\n",
    "\n",
    "input_image = PILImageTransform(input_image)\n",
    "input_image"
   ]
  },
  {
   "cell_type": "markdown",
   "metadata": {},
   "source": [
    "Note that inputs 38 to 41 can be run multiple times to see the model's prediction given an image."
   ]
  },
  {
   "cell_type": "markdown",
   "metadata": {},
   "source": [
    "## Conclusion"
   ]
  },
  {
   "cell_type": "markdown",
   "metadata": {},
   "source": [
    "In this project, I have implemented Garg's model architecture to predict the series of characters that are shown given a CAPTCHA image. The training and validation accuracies of **98.95%** and **99.74%**, respectively, shows how effective this model architecture is as a CAPTCHA solver. Lastly, the goal of removing character image segmentation in  the process allows prediction of distorted and overlapping characters with no issues."
   ]
  }
 ],
 "metadata": {
  "kernelspec": {
   "display_name": "Python 3",
   "language": "python",
   "name": "python3"
  },
  "language_info": {
   "codemirror_mode": {
    "name": "ipython",
    "version": 3
   },
   "file_extension": ".py",
   "mimetype": "text/x-python",
   "name": "python",
   "nbconvert_exporter": "python",
   "pygments_lexer": "ipython3",
   "version": "3.7.0"
  }
 },
 "nbformat": 4,
 "nbformat_minor": 2
}
